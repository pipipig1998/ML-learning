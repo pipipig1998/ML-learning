{
 "cells": [
  {
   "cell_type": "markdown",
   "id": "agricultural-outdoors",
   "metadata": {
    "ExecuteTime": {
     "end_time": "2021-04-04T12:19:25.534039Z",
     "start_time": "2021-04-04T12:19:25.529052Z"
    }
   },
   "source": [
    "# 第三章、深度学习基础"
   ]
  },
  {
   "cell_type": "markdown",
   "id": "exposed-consequence",
   "metadata": {},
   "source": [
    "先从线性回归和softmax回归这两种单层神经网络入手，由单层扩展到多层感知机\n",
    "同时还介绍权重衰减和Dropout两种方法，详细解释反向传播和正向传播\n",
    "\n",
    "---"
   ]
  },
  {
   "cell_type": "markdown",
   "id": "front-assist",
   "metadata": {},
   "source": [
    "## 线性回归\n",
    "---\n",
    "模型：$\\hat y=x_{1}w_{1}+x_{2}w_{2}+b$<br>\n",
    "损失函数:$Loss(w_{1},w_{2},b)=\\frac{1}{2}(\\hat y^{i}-y^{i})^{2}$<br>\n",
    "对于所有样本我们希望进行他的平均质量来进行求:$$Lass(w_{1},w_{2},b)=\\frac{1}{n}\\Sigma_{i=1}^{n}Loss^{i}(w_{1},w_{2},b)=\\frac{1}{n}\\Sigma_{i=1}^{n}\\frac{1}{2}(x_{1}^{i}w_{1}+x_{2^{i}}w_{2}+b-y^{i})^{2}$$\n",
    "---\n",
    "上面的误差最小化问题的解，可以用公式直接表达出来，这类解叫做解析解，然而，大部分深度学习模型并美誉解析解，只能通过优化算法有限次迭代模型参数来尽可能降低损失函数的值，这种解叫做数值解<br>\n",
    "**小批量随机梯度下降:**\n",
    "先选取一组模型参数的初始值，如随机选取；然后对参数进行多次迭代，使每次迭代都可能降低损失函数的值。在每次迭代中，先随机均匀采样一个由固定数目训练数据样本所组成的小批量$\\beta$,然后求小批量样本的平均损失有关模型参数的梯度，最后用此结果与预先设定的一个正数的乘积作为模型参数在本次迭代的减小量<br>\n",
    "---\n",
    "**具体的迭代:**\n",
    "$$w_{1}=w_{1}-\\frac{\\epsilon}{\\mid \\beta \\mid}\\Sigma_{i\\in \\beta}\\frac{\\partial \\ell^{i}(w_{1},w_{2},b)}{\\ell w_{1}}$$\n",
    "$$w_{2}=w_{2}-\\frac{\\epsilon}{\\mid \\beta \\mid}\\Sigma_{i\\in \\beta}\\frac{\\partial \\ell^{i}(w_{1},w_{2},b)}{\\ell w_{2}}$$\n",
    "$$b=b-\\frac{\\epsilon}{\\mid \\beta \\mid}\\Sigma_{i\\in \\beta}\\frac{\\partial \\ell^{i}(w_{1},w_{2},b)}{\\ell b}$$\n",
    "<br>\n",
    "其中，$\\mid \\beta \\mid$代表每个小批量样本个数，$\\epsilon$被成为学习率"
   ]
  },
  {
   "cell_type": "markdown",
   "id": "completed-access",
   "metadata": {},
   "source": [
    "***\n",
    "设训练集样本数为$1000$，输入个数为$2$,给定随机生成的批量样本特征$X \\in R^{1000\\times 2}$<br>\n",
    "我们真实的权重为$w=[2,-3.4]^{T}$和偏差为$b=4.2$以及一个噪声$\\epsilon$"
   ]
  },
  {
   "cell_type": "code",
   "execution_count": 2,
   "id": "executive-marks",
   "metadata": {
    "ExecuteTime": {
     "end_time": "2021-04-04T12:53:36.430066Z",
     "start_time": "2021-04-04T12:53:36.075969Z"
    }
   },
   "outputs": [],
   "source": [
    "# 导包\n",
    "from IPython import display\n",
    "from matplotlib import pyplot as plt\n",
    "from mxnet import autograd,nd\n",
    "import random"
   ]
  },
  {
   "cell_type": "code",
   "execution_count": 5,
   "id": "bizarre-winter",
   "metadata": {
    "ExecuteTime": {
     "end_time": "2021-04-04T12:57:47.848150Z",
     "start_time": "2021-04-04T12:57:47.837180Z"
    }
   },
   "outputs": [
    {
     "name": "stdout",
     "output_type": "stream",
     "text": [
      "(1000, 2)\n",
      "(1000,)\n"
     ]
    }
   ],
   "source": [
    "\n",
    "# 生成测试数据\n",
    "num_inputs=2\n",
    "num_examples=1000\n",
    "true_w=[2,-3.4]\n",
    "true_b=4.2\n",
    "features=nd.random.normal(scale=1,shape=(num_examples,num_inputs))\n",
    "labels=true_w[0]*features[:,0]+true_w[1]+features[:,1]+true_b\n",
    "#给标签加入干扰项\n",
    "labels+=nd.random.normal(scale=0.01,shape=labels.shape)\n",
    "print(features.shape)\n",
    "print(labels.shape)"
   ]
  },
  {
   "cell_type": "code",
   "execution_count": 9,
   "id": "conceptual-process",
   "metadata": {
    "ExecuteTime": {
     "end_time": "2021-04-04T13:02:33.398314Z",
     "start_time": "2021-04-04T13:02:33.261679Z"
    }
   },
   "outputs": [
    {
     "data": {
      "text/plain": [
       "<matplotlib.collections.PathCollection at 0x24ba8e65d90>"
      ]
     },
     "execution_count": 9,
     "metadata": {},
     "output_type": "execute_result"
    },
    {
     "data": {
      "image/png": "[encoded data removed]",
      "text/plain": [
       "<Figure size 252x180 with 1 Axes>"
      ]
     },
     "metadata": {
      "needs_background": "light"
     },
     "output_type": "display_data"
    }
   ],
   "source": [
    "#画图查看以下生成的数据\n",
    "plt.figure(figsize=(3.5,2.5))\n",
    "plt.scatter(features[:,1].asnumpy(),labels.asnumpy(),1)"
   ]
  }
 ],
 "metadata": {
  "kernelspec": {
   "display_name": "tensorflow",
   "language": "python",
   "name": "tensorflow"
  },
  "language_info": {
   "codemirror_mode": {
    "name": "ipython",
    "version": 3
   },
   "file_extension": ".py",
   "mimetype": "text/x-python",
   "name": "python",
   "nbconvert_exporter": "python",
   "pygments_lexer": "ipython3",
   "version": "3.8.3"
  },
  "toc": {
   "base_numbering": 1,
   "nav_menu": {},
   "number_sections": true,
   "sideBar": true,
   "skip_h1_title": false,
   "title_cell": "Table of Contents",
   "title_sidebar": "Contents",
   "toc_cell": false,
   "toc_position": {},
   "toc_section_display": true,
   "toc_window_display": false
  },
  "varInspector": {
   "cols": {
    "lenName": 16,
    "lenType": 16,
    "lenVar": 40
   },
   "kernels_config": {
    "python": {
     "delete_cmd_postfix": "",
     "delete_cmd_prefix": "del ",
     "library": "var_list.py",
     "varRefreshCmd": "print(var_dic_list())"
    },
    "r": {
     "delete_cmd_postfix": ") ",
     "delete_cmd_prefix": "rm(",
     "library": "var_list.r",
     "varRefreshCmd": "cat(var_dic_list()) "
    }
   },
   "types_to_exclude": [
    "module",
    "function",
    "builtin_function_or_method",
    "instance",
    "_Feature"
   ],
   "window_display": false
  }
 },
 "nbformat": 4,
 "nbformat_minor": 5
}
