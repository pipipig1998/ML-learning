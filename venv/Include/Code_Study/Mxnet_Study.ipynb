{
 "cells": [
  {
   "cell_type": "markdown",
   "id": "hawaiian-classic",
   "metadata": {
    "ExecuteTime": {
     "end_time": "2021-04-04T11:14:42.146037Z",
     "start_time": "2021-04-04T11:14:42.139061Z"
    }
   },
   "source": [
    "# 导入nd模块，这里模块是ndarray的缩写<br>\n",
    "\n",
    "\n",
    "其实用法和numpy一样，我这里安装的CPU版本的，GPU版本的最新版下不下来，太麻烦了配置，反正个人电脑跑，无所谓了\n",
    "\n",
    "---"
   ]
  },
  {
   "cell_type": "code",
   "execution_count": 22,
   "id": "outdoor-mayor",
   "metadata": {
    "ExecuteTime": {
     "end_time": "2021-04-04T11:23:56.287741Z",
     "start_time": "2021-04-04T11:23:56.271780Z"
    },
    "collapsed": true
   },
   "outputs": [
    {
     "name": "stdout",
     "output_type": "stream",
     "text": [
      "\n",
      "[[0. 0. 0. 0.]\n",
      " [0. 0. 0. 0.]]\n",
      "<NDArray 2x4 @cpu(0)>\n",
      "\n",
      "[[1. 1. 1. 1.]\n",
      " [1. 1. 1. 1.]]\n",
      "<NDArray 2x4 @cpu(0)>\n",
      "\n",
      "[[ 0.13123232  1.6403018  -1.2138013   2.3999705 ]\n",
      " [-0.38509098 -0.98780406  0.95858884 -1.4976466 ]\n",
      " [ 0.66051626 -0.18903568 -0.27302608  0.91815436]]\n",
      "<NDArray 3x4 @cpu(0)>\n",
      "\n",
      "[[ 2.173063    0.07520011  0.07185642  1.1256202 ]\n",
      " [-0.35596412 -0.25376529 -0.04047155  0.4965976 ]\n",
      " [ 1.3801025   1.8027116   0.6457191   1.8115262 ]]\n",
      "<NDArray 3x4 @cpu(0)>\n",
      "\n",
      "[ 0  1  2  3  4  5  6  7  8 10]\n",
      "<NDArray 10 @cpu(0)>\n",
      "\n",
      "[0. 5.]\n",
      "<NDArray 2 @cpu(0)>\n"
     ]
    }
   ],
   "source": [
    "from mxnet import nd\n",
    "# 用法和numpy差不多\n",
    "\n",
    "x=nd.arange(12)\n",
    "x.size\n",
    "X=x.reshape((3,4))\n",
    "# 创建各元素都为0的矩阵\n",
    "x=nd.zeros((2,4))\n",
    "print(x)\n",
    "# 创建张量为1的矩阵\n",
    "x=nd.ones((2,4))\n",
    "print(x)\n",
    "# 创建一个随机矩阵，均值是0，方差是1，大小为3*4\n",
    "x=nd.random.normal(0,1,(3,4))\n",
    "print(x)\n",
    "# 创建一个随机矩阵，大小为3*4\n",
    "x=nd.random.randn(3,4)\n",
    "print(x)\n",
    "# 创建一个线性的，开始为0结束为10，共10元素的数组\n",
    "x=nd.linspace(0,10,10,dtype=int)\n",
    "print(x)\n",
    "# 创建一个线性的，开始是0，结束是10，步长为5\n",
    "x=nd.arange(0,10,5)\n",
    "print(x)"
   ]
  },
  {
   "cell_type": "markdown",
   "id": "subjective-kansas",
   "metadata": {},
   "source": [
    "## mxnet中的运算操作"
   ]
  },
  {
   "cell_type": "code",
   "execution_count": 47,
   "id": "affecting-actor",
   "metadata": {
    "ExecuteTime": {
     "end_time": "2021-04-04T11:41:19.611437Z",
     "start_time": "2021-04-04T11:41:19.514696Z"
    },
    "collapsed": true
   },
   "outputs": [
    {
     "name": "stdout",
     "output_type": "stream",
     "text": [
      "\n",
      "[[10. 12. 14. 16.]\n",
      " [18. 20. 22. 24.]\n",
      " [26. 28. 30. 32.]]\n",
      "<NDArray 3x4 @cpu(0)>\n",
      "\n",
      "[[  0.        11.900826  25.785126  41.652893]\n",
      " [ 59.504135  79.338844 101.15702  124.95867 ]\n",
      " [150.7438   178.5124   208.26448  240.      ]]\n",
      "<NDArray 3x4 @cpu(0)>\n",
      "\n",
      "[[0.         0.1        0.18461539 0.25714284]\n",
      " [0.32       0.375      0.42352942 0.46666667]\n",
      " [0.50526315 0.54       0.57142854 0.6       ]]\n",
      "<NDArray 3x4 @cpu(0)>\n",
      "\n",
      "[[2.2026465e+04 5.4671125e+04 1.3569731e+05 3.3680956e+05]\n",
      " [8.3598338e+05 2.0749652e+06 5.1501945e+06 1.2783119e+07]\n",
      " [3.1728566e+07 7.8752296e+07 1.9546853e+08 4.8516518e+08]]\n",
      "<NDArray 3x4 @cpu(0)>\n",
      "\n",
      "[[ 79.338844 103.140495 126.942154]\n",
      " [277.68594  364.95868  452.2314  ]\n",
      " [476.03305  626.77686  777.5207  ]]\n",
      "<NDArray 3x3 @cpu(0)>\n",
      "\n",
      "[[ 0.         1.0909091  2.1818182  3.2727273]\n",
      " [ 4.3636365  5.4545455  6.5454545  7.6363635]\n",
      " [ 8.727273   9.818182  10.909091  12.       ]\n",
      " [10.        10.909091  11.818182  12.727273 ]\n",
      " [13.636364  14.545455  15.454545  16.363636 ]\n",
      " [17.272728  18.181818  19.09091   20.       ]]\n",
      "<NDArray 6x4 @cpu(0)>\n",
      "\n",
      "[[ 0.         1.0909091  2.1818182  3.2727273 10.        10.909091\n",
      "  11.818182  12.727273 ]\n",
      " [ 4.3636365  5.4545455  6.5454545  7.6363635 13.636364  14.545455\n",
      "  15.454545  16.363636 ]\n",
      " [ 8.727273   9.818182  10.909091  12.        17.272728  18.181818\n",
      "  19.09091   20.       ]]\n",
      "<NDArray 3x8 @cpu(0)>\n",
      "\n",
      "[72.]\n",
      "<NDArray 1 @cpu(0)>\n",
      "24.539394\n"
     ]
    },
    {
     "ename": "MXNetError",
     "evalue": "Traceback (most recent call last):\n  File \"c:\\jenkins\\workspace\\mxnet-tag\\mxnet\\src\\operator\\tensor\\./la_op.h\", line 413\nMXNetError: Check failed: in[ndim-2] == in[ndim-1] (3 vs. 4) : Input A's last two dimension must be equal",
     "output_type": "error",
     "traceback": [
      "\u001b[1;31m---------------------------------------------------------------------------\u001b[0m",
      "\u001b[1;31mMXNetError\u001b[0m                                Traceback (most recent call last)",
      "\u001b[1;32m<ipython-input-47-ac965c5d3c92>\u001b[0m in \u001b[0;36m<module>\u001b[1;34m\u001b[0m\n\u001b[0;32m     18\u001b[0m \u001b[1;31m# 求L2范数，同时转换成python标量\u001b[0m\u001b[1;33m\u001b[0m\u001b[1;33m\u001b[0m\u001b[1;33m\u001b[0m\u001b[0m\n\u001b[0;32m     19\u001b[0m \u001b[0mprint\u001b[0m\u001b[1;33m(\u001b[0m\u001b[0mx\u001b[0m\u001b[1;33m.\u001b[0m\u001b[0mnorm\u001b[0m\u001b[1;33m(\u001b[0m\u001b[1;33m)\u001b[0m\u001b[1;33m.\u001b[0m\u001b[0masscalar\u001b[0m\u001b[1;33m(\u001b[0m\u001b[1;33m)\u001b[0m\u001b[1;33m)\u001b[0m\u001b[1;33m\u001b[0m\u001b[1;33m\u001b[0m\u001b[0m\n\u001b[1;32m---> 20\u001b[1;33m \u001b[0mprint\u001b[0m\u001b[1;33m(\u001b[0m\u001b[0mnd\u001b[0m\u001b[1;33m.\u001b[0m\u001b[0mlinalg\u001b[0m\u001b[1;33m.\u001b[0m\u001b[0minverse\u001b[0m\u001b[1;33m(\u001b[0m\u001b[0mx\u001b[0m\u001b[1;33m)\u001b[0m\u001b[1;33m)\u001b[0m\u001b[1;33m\u001b[0m\u001b[1;33m\u001b[0m\u001b[0m\n\u001b[0m",
      "\u001b[1;32mE:\\ProgramFiles\\anaconda\\envs\\tensorflow\\lib\\site-packages\\mxnet\\ndarray\\register.py\u001b[0m in \u001b[0;36minverse\u001b[1;34m(A, out, name, **kwargs)\u001b[0m\n",
      "\u001b[1;32mE:\\ProgramFiles\\anaconda\\envs\\tensorflow\\lib\\site-packages\\mxnet\\_ctypes\\ndarray.py\u001b[0m in \u001b[0;36m_imperative_invoke\u001b[1;34m(handle, ndargs, keys, vals, out, is_np_op, output_is_list)\u001b[0m\n\u001b[0;32m     80\u001b[0m     \u001b[0mout_stypes\u001b[0m \u001b[1;33m=\u001b[0m \u001b[0mctypes\u001b[0m\u001b[1;33m.\u001b[0m\u001b[0mPOINTER\u001b[0m\u001b[1;33m(\u001b[0m\u001b[0mctypes\u001b[0m\u001b[1;33m.\u001b[0m\u001b[0mc_int\u001b[0m\u001b[1;33m)\u001b[0m\u001b[1;33m(\u001b[0m\u001b[1;33m)\u001b[0m\u001b[1;33m\u001b[0m\u001b[1;33m\u001b[0m\u001b[0m\n\u001b[0;32m     81\u001b[0m \u001b[1;33m\u001b[0m\u001b[0m\n\u001b[1;32m---> 82\u001b[1;33m     check_call(_LIB.MXImperativeInvokeEx(\n\u001b[0m\u001b[0;32m     83\u001b[0m         \u001b[0mctypes\u001b[0m\u001b[1;33m.\u001b[0m\u001b[0mc_void_p\u001b[0m\u001b[1;33m(\u001b[0m\u001b[0mhandle\u001b[0m\u001b[1;33m)\u001b[0m\u001b[1;33m,\u001b[0m\u001b[1;33m\u001b[0m\u001b[1;33m\u001b[0m\u001b[0m\n\u001b[0;32m     84\u001b[0m         \u001b[0mctypes\u001b[0m\u001b[1;33m.\u001b[0m\u001b[0mc_int\u001b[0m\u001b[1;33m(\u001b[0m\u001b[0mlen\u001b[0m\u001b[1;33m(\u001b[0m\u001b[0mndargs\u001b[0m\u001b[1;33m)\u001b[0m\u001b[1;33m)\u001b[0m\u001b[1;33m,\u001b[0m\u001b[1;33m\u001b[0m\u001b[1;33m\u001b[0m\u001b[0m\n",
      "\u001b[1;32mE:\\ProgramFiles\\anaconda\\envs\\tensorflow\\lib\\site-packages\\mxnet\\base.py\u001b[0m in \u001b[0;36mcheck_call\u001b[1;34m(ret)\u001b[0m\n\u001b[0;32m    244\u001b[0m     \"\"\"\n\u001b[0;32m    245\u001b[0m     \u001b[1;32mif\u001b[0m \u001b[0mret\u001b[0m \u001b[1;33m!=\u001b[0m \u001b[1;36m0\u001b[0m\u001b[1;33m:\u001b[0m\u001b[1;33m\u001b[0m\u001b[1;33m\u001b[0m\u001b[0m\n\u001b[1;32m--> 246\u001b[1;33m         \u001b[1;32mraise\u001b[0m \u001b[0mget_last_ffi_error\u001b[0m\u001b[1;33m(\u001b[0m\u001b[1;33m)\u001b[0m\u001b[1;33m\u001b[0m\u001b[1;33m\u001b[0m\u001b[0m\n\u001b[0m\u001b[0;32m    247\u001b[0m \u001b[1;33m\u001b[0m\u001b[0m\n\u001b[0;32m    248\u001b[0m \u001b[1;33m\u001b[0m\u001b[0m\n",
      "\u001b[1;31mMXNetError\u001b[0m: Traceback (most recent call last):\n  File \"c:\\jenkins\\workspace\\mxnet-tag\\mxnet\\src\\operator\\tensor\\./la_op.h\", line 413\nMXNetError: Check failed: in[ndim-2] == in[ndim-1] (3 vs. 4) : Input A's last two dimension must be equal"
     ]
    }
   ],
   "source": [
    "# 加法\n",
    "x=nd.linspace(0,12,12).reshape(3,4)\n",
    "y=nd.linspace(10,20,12).reshape(3,4)\n",
    "print(x+y)\n",
    "# 按元素乘\n",
    "print(x*y)\n",
    "# 按元素除\n",
    "print(x/y)\n",
    "# 按元素做指数运算,numpy里面没有！\n",
    "print(y.exp())\n",
    "# 矩阵乘法,这里不支持int类型，仅支持浮点型\n",
    "print(nd.dot(x,y.T))\n",
    "# 矩阵连接\n",
    "print(nd.concat(x,y,dim=0))\n",
    "print(nd.concat(x,y,dim=1))\n",
    "# 将所有元素进行加和\n",
    "print(x.sum())\n",
    "# 求L2范数，同时转换成python标量\n",
    "print(x.norm().asscalar())"
   ]
  },
  {
   "cell_type": "markdown",
   "id": "contained-rehabilitation",
   "metadata": {},
   "source": [
    "## 广播机制"
   ]
  },
  {
   "cell_type": "code",
   "execution_count": 49,
   "id": "olympic-equipment",
   "metadata": {
    "ExecuteTime": {
     "end_time": "2021-04-04T11:52:14.324994Z",
     "start_time": "2021-04-04T11:52:14.248198Z"
    },
    "collapsed": true
   },
   "outputs": [
    {
     "name": "stdout",
     "output_type": "stream",
     "text": [
      "\n",
      "[[0. 1.]\n",
      " [1. 2.]\n",
      " [2. 3.]]\n",
      "<NDArray 3x2 @cpu(0)>\n"
     ]
    }
   ],
   "source": [
    "A=nd.arange(3).reshape((3,1))\n",
    "B = nd.arange(3).reshape((1,2))\n",
    "A,B\n",
    "print(A+B)"
   ]
  },
  {
   "cell_type": "markdown",
   "id": "authentic-schedule",
   "metadata": {},
   "source": [
    "## 索引"
   ]
  },
  {
   "cell_type": "code",
   "execution_count": 54,
   "id": "hungarian-optimum",
   "metadata": {
    "ExecuteTime": {
     "end_time": "2021-04-04T11:54:33.419362Z",
     "start_time": "2021-04-04T11:54:33.355533Z"
    },
    "collapsed": true
   },
   "outputs": [
    {
     "data": {
      "text/plain": [
       "\n",
       "[[1.0909091]\n",
       " [5.4545455]\n",
       " [9.818182 ]]\n",
       "<NDArray 3x1 @cpu(0)>"
      ]
     },
     "execution_count": 54,
     "metadata": {},
     "output_type": "execute_result"
    }
   ],
   "source": [
    "# 索引第一行到第二行\n",
    "x[1:2]\n",
    "# 索引第1行的第2个元素\n",
    "x[1,2]\n",
    "# 索引第1列到第二列的全部数据\n",
    "x[:,1:2]"
   ]
  },
  {
   "cell_type": "markdown",
   "id": "continuous-bubble",
   "metadata": {},
   "source": [
    "## ndarray和numpy转换"
   ]
  },
  {
   "cell_type": "code",
   "execution_count": 56,
   "id": "accepting-arbitration",
   "metadata": {
    "ExecuteTime": {
     "end_time": "2021-04-04T11:58:03.786997Z",
     "start_time": "2021-04-04T11:58:03.777024Z"
    },
    "collapsed": true
   },
   "outputs": [
    {
     "data": {
      "text/plain": [
       "array([[1., 1., 1.],\n",
       "       [1., 1., 1.]], dtype=float32)"
      ]
     },
     "execution_count": 56,
     "metadata": {},
     "output_type": "execute_result"
    }
   ],
   "source": [
    "import numpy as np \n",
    "\n",
    "P = np.ones((2,3))\n",
    "# 将numpy转换成ndarray\n",
    "D = nd.array(P)\n",
    "D\n",
    "# 将ndarray转换成numpy\n",
    "D.asnumpy()"
   ]
  },
  {
   "cell_type": "markdown",
   "id": "weird-junior",
   "metadata": {
    "ExecuteTime": {
     "end_time": "2021-04-04T11:58:51.917585Z",
     "start_time": "2021-04-04T11:58:51.913595Z"
    }
   },
   "source": [
    "# 自动求梯度"
   ]
  },
  {
   "cell_type": "code",
   "execution_count": 67,
   "id": "loving-workstation",
   "metadata": {
    "ExecuteTime": {
     "end_time": "2021-04-04T12:08:43.309608Z",
     "start_time": "2021-04-04T12:08:43.300632Z"
    }
   },
   "outputs": [],
   "source": [
    "from mxnet import autograd,nd\n",
    "\n",
    "x = nd.arange(4).reshape((4,1))\n",
    "# 先调用attach_grad函数来申请存储梯度所需要的内存\n",
    "x.attach_grad()\n",
    "# 调用record函数来要求MXNET记录与求梯度有关的计算\n",
    "with autograd.record():\n",
    "    y=2*nd.dot(x.T,x)\n",
    "# 求解Y的梯度\n",
    "y.backward()\n"
   ]
  },
  {
   "cell_type": "markdown",
   "id": "great-unemployment",
   "metadata": {
    "ExecuteTime": {
     "end_time": "2021-04-04T12:09:19.281612Z",
     "start_time": "2021-04-04T12:09:19.276615Z"
    }
   },
   "source": [
    "## 对python控制流求梯度"
   ]
  },
  {
   "cell_type": "code",
   "execution_count": 72,
   "id": "final-brisbane",
   "metadata": {
    "ExecuteTime": {
     "end_time": "2021-04-04T12:14:14.291925Z",
     "start_time": "2021-04-04T12:14:14.242060Z"
    },
    "collapsed": true
   },
   "outputs": [
    {
     "data": {
      "text/plain": [
       "\n",
       "[1.]\n",
       "<NDArray 1 @cpu(0)>"
      ]
     },
     "execution_count": 72,
     "metadata": {},
     "output_type": "execute_result"
    }
   ],
   "source": [
    "def f(a):\n",
    "    b=a*2\n",
    "    while b.norm().asscalar()<1000:\n",
    "        b=b*2\n",
    "    if b.sum().asscalar()>0:\n",
    "        c=b\n",
    "    else :\n",
    "        c=100*b\n",
    "    return c\n",
    "a=nd.random.normal(shape=1)\n",
    "a.attach_grad()\n",
    "with autograd.record():\n",
    "    c=f(a)\n",
    "c.backward()"
   ]
  },
  {
   "cell_type": "code",
   "execution_count": 77,
   "id": "unique-delivery",
   "metadata": {
    "ExecuteTime": {
     "end_time": "2021-04-04T12:18:23.822768Z",
     "start_time": "2021-04-04T12:18:23.811794Z"
    },
    "collapsed": true
   },
   "outputs": [
    {
     "name": "stdout",
     "output_type": "stream",
     "text": [
      "\n",
      "[-0.34665737]\n",
      "<NDArray 1 @cpu(0)>\n",
      "Help on function ones_like:\n",
      "\n",
      "ones_like(data=None, out=None, name=None, **kwargs)\n",
      "    Return an array of ones with the same shape and type\n",
      "    as the input array.\n",
      "    \n",
      "    Examples::\n",
      "    \n",
      "      x = [[ 0.,  0.,  0.],\n",
      "           [ 0.,  0.,  0.]]\n",
      "    \n",
      "      ones_like(x) = [[ 1.,  1.,  1.],\n",
      "                      [ 1.,  1.,  1.]]\n",
      "    \n",
      "    \n",
      "    \n",
      "    Parameters\n",
      "    ----------\n",
      "    data : NDArray\n",
      "        The input\n",
      "    \n",
      "    out : NDArray, optional\n",
      "        The output NDArray to hold the result.\n",
      "    \n",
      "    Returns\n",
      "    -------\n",
      "    out : NDArray or list of NDArrays\n",
      "        The output of this function.\n",
      "\n"
     ]
    }
   ],
   "source": [
    "a=nd.random.normal(shape=1)\n",
    "# 自动求导设置\n",
    "\"\"\"\n",
    "    第一步：申请求导所需要的内存\n",
    "    第二步：进行记录\n",
    "    第三步：反向求导\n",
    "    第四步：输入a的导数\n",
    "    \n",
    "\"\"\"\n",
    "a.attach_grad()\n",
    "with autograd.record():\n",
    "    y=a*2*a\n",
    "y.backward()\n",
    "print(a.grad)"
   ]
  }
 ],
 "metadata": {
  "kernelspec": {
   "display_name": "tensorflow",
   "language": "python",
   "name": "tensorflow"
  },
  "language_info": {
   "codemirror_mode": {
    "name": "ipython",
    "version": 3
   },
   "file_extension": ".py",
   "mimetype": "text/x-python",
   "name": "python",
   "nbconvert_exporter": "python",
   "pygments_lexer": "ipython3",
   "version": "3.8.3"
  },
  "toc": {
   "base_numbering": 1,
   "nav_menu": {},
   "number_sections": true,
   "sideBar": true,
   "skip_h1_title": false,
   "title_cell": "Table of Contents",
   "title_sidebar": "Contents",
   "toc_cell": false,
   "toc_position": {},
   "toc_section_display": true,
   "toc_window_display": false
  },
  "varInspector": {
   "cols": {
    "lenName": 16,
    "lenType": 16,
    "lenVar": 40
   },
   "kernels_config": {
    "python": {
     "delete_cmd_postfix": "",
     "delete_cmd_prefix": "del ",
     "library": "var_list.py",
     "varRefreshCmd": "print(var_dic_list())"
    },
    "r": {
     "delete_cmd_postfix": ") ",
     "delete_cmd_prefix": "rm(",
     "library": "var_list.r",
     "varRefreshCmd": "cat(var_dic_list()) "
    }
   },
   "types_to_exclude": [
    "module",
    "function",
    "builtin_function_or_method",
    "instance",
    "_Feature"
   ],
   "window_display": false
  }
 },
 "nbformat": 4,
 "nbformat_minor": 5
}
