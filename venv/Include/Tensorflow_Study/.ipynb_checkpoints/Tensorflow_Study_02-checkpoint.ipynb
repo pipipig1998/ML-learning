{
 "cells": [
  {
   "cell_type": "code",
   "execution_count": 1,
   "id": "organizational-return",
   "metadata": {
    "ExecuteTime": {
     "end_time": "2021-04-08T13:31:09.449571Z",
     "start_time": "2021-04-08T13:30:50.593009Z"
    }
   },
   "outputs": [],
   "source": [
    "import tensorflow as tf\n",
    "\n",
    "\n"
   ]
  },
  {
   "cell_type": "markdown",
   "id": "beginning-recall",
   "metadata": {
    "ExecuteTime": {
     "end_time": "2021-04-08T13:18:01.757139Z",
     "start_time": "2021-04-08T13:18:01.752140Z"
    }
   },
   "source": [
    "# 变量简介\n",
    "\n",
    "TensorFlow 变量是用于表示程序处理的共享持久状态的推荐方法。本指南介绍在 TensorFlow 中如何创建、更新和管理 tf.Variable 的实例。<br><br>\n",
    "tf.Variable 表示张量，对它执行运算可以改变其值。利用特定运算可以读取和修改此张量的值。更高级的库（如 tf.keras）使用 tf.Variable 来存储模型参数。 \n",
    "\n",
    "---"
   ]
  },
  {
   "cell_type": "markdown",
   "id": "associate-traveler",
   "metadata": {},
   "source": [
    "## 创建变量\n",
    "要创建变量，请提供一个初始值。tf.Variable 与初始值的 dtype 相同"
   ]
  },
  {
   "cell_type": "code",
   "execution_count": 2,
   "id": "important-alexander",
   "metadata": {
    "ExecuteTime": {
     "end_time": "2021-04-08T13:32:07.234635Z",
     "start_time": "2021-04-08T13:32:03.040369Z"
    }
   },
   "outputs": [],
   "source": [
    "my_variable=tf.Variable([1,2,3,4])"
   ]
  },
  {
   "cell_type": "markdown",
   "id": "defensive-chance",
   "metadata": {
    "ExecuteTime": {
     "end_time": "2021-04-08T13:32:22.778129Z",
     "start_time": "2021-04-08T13:32:22.770138Z"
    }
   },
   "source": [
    "如果在运算中像使用张量一样使用变量，那么通常会对支持张量执行运算。<br><br>\n",
    "\n",
    "从现有变量创建新变量会复制支持张量。两个变量不能共享同一内存空间。<br><br>\n",
    "\n",
    "变量由张量提供支持。您可以使用 tf.Variable.assign 重新分配张量。调用 assign（通常）不会分配新张量，而会重用现有张量的内存。"
   ]
  },
  {
   "cell_type": "code",
   "execution_count": 4,
   "id": "trained-fabric",
   "metadata": {
    "ExecuteTime": {
     "end_time": "2021-04-08T13:33:43.462686Z",
     "start_time": "2021-04-08T13:33:42.777091Z"
    },
    "collapsed": true
   },
   "outputs": [
    {
     "name": "stdout",
     "output_type": "stream",
     "text": [
      "[5. 6.]\n",
      "[2. 3.]\n",
      "[7. 9.]\n",
      "[0. 0.]\n"
     ]
    }
   ],
   "source": [
    "a = tf.Variable([2.0, 3.0])\n",
    "b = tf.Variable(a)\n",
    "a.assign([5, 6])\n",
    "\n",
    "print(a.numpy())\n",
    "print(b.numpy())\n",
    "\n",
    "\n",
    "print(a.assign_add([2,3]).numpy())  # [7. 9.]\n",
    "print(a.assign_sub([7,9]).numpy())  # [0. 0.]\n"
   ]
  },
  {
   "cell_type": "markdown",
   "id": "planned-server",
   "metadata": {},
   "source": [
    "## 生命周期、命名和监视\n",
    "在基于 Python 的 TensorFlow 中，tf.Variable 实例与其他 Python 对象的生命周期相同。如果没有对变量的引用，则会自动将其解除分配。<br><br>\n",
    "\n",
    "为了便于跟踪和调试，您还可以为变量命名。两个变量可以使用相同的名称。<br><br>\n",
    "\n",
    "在创建时，通过将 trainable 设置为 False 可以关闭梯度。例如，训练计步器就是一个不需要梯度的变量。\n",
    "\n",
    "---"
   ]
  },
  {
   "cell_type": "code",
   "execution_count": 5,
   "id": "failing-adams",
   "metadata": {
    "ExecuteTime": {
     "end_time": "2021-04-08T13:37:30.332472Z",
     "start_time": "2021-04-08T13:37:30.284579Z"
    }
   },
   "outputs": [],
   "source": [
    "step_counter = tf.Variable(1, trainable=False)\n"
   ]
  },
  {
   "cell_type": "markdown",
   "id": "colonial-elite",
   "metadata": {
    "ExecuteTime": {
     "end_time": "2021-04-08T13:38:21.409659Z",
     "start_time": "2021-04-08T13:38:21.401680Z"
    }
   },
   "source": [
    "## 放置变量和张量\n",
    "\n",
    "虽然可以手动放置变量，但使用分布策略是一种可优化计算的更便捷且可扩展的方式。<br><br>\n",
    "\n",
    "如果在有 GPU 和没有 GPU 的不同后端上运行此笔记本，则会看到不同的记录。请注意，必须在会话开始时打开设备布局记录。<br><br>"
   ]
  },
  {
   "cell_type": "code",
   "execution_count": 8,
   "id": "olive-turning",
   "metadata": {
    "ExecuteTime": {
     "end_time": "2021-04-08T13:38:37.114480Z",
     "start_time": "2021-04-08T13:38:37.100517Z"
    },
    "collapsed": true
   },
   "outputs": [
    {
     "name": "stdout",
     "output_type": "stream",
     "text": [
      "tf.Tensor(\n",
      "[[22. 28.]\n",
      " [49. 64.]], shape=(2, 2), dtype=float32)\n"
     ]
    }
   ],
   "source": [
    "with tf.device('CPU:0'):\n",
    "\n",
    "  # Create some tensors\n",
    "  a = tf.Variable([[1.0, 2.0, 3.0], [4.0, 5.0, 6.0]])\n",
    "  b = tf.constant([[1.0, 2.0], [3.0, 4.0], [5.0, 6.0]])\n",
    "  c = tf.matmul(a, b)\n",
    "\n",
    "print(c)\n"
   ]
  },
  {
   "cell_type": "code",
   "execution_count": null,
   "id": "finite-adapter",
   "metadata": {},
   "outputs": [],
   "source": []
  }
 ],
 "metadata": {
  "kernelspec": {
   "display_name": "tensorflow",
   "language": "python",
   "name": "tensorflow"
  },
  "language_info": {
   "codemirror_mode": {
    "name": "ipython",
    "version": 3
   },
   "file_extension": ".py",
   "mimetype": "text/x-python",
   "name": "python",
   "nbconvert_exporter": "python",
   "pygments_lexer": "ipython3",
   "version": "3.8.3"
  },
  "toc": {
   "base_numbering": 1,
   "nav_menu": {},
   "number_sections": true,
   "sideBar": true,
   "skip_h1_title": false,
   "title_cell": "Table of Contents",
   "title_sidebar": "Contents",
   "toc_cell": false,
   "toc_position": {},
   "toc_section_display": true,
   "toc_window_display": false
  },
  "varInspector": {
   "cols": {
    "lenName": 16,
    "lenType": 16,
    "lenVar": 40
   },
   "kernels_config": {
    "python": {
     "delete_cmd_postfix": "",
     "delete_cmd_prefix": "del ",
     "library": "var_list.py",
     "varRefreshCmd": "print(var_dic_list())"
    },
    "r": {
     "delete_cmd_postfix": ") ",
     "delete_cmd_prefix": "rm(",
     "library": "var_list.r",
     "varRefreshCmd": "cat(var_dic_list()) "
    }
   },
   "types_to_exclude": [
    "module",
    "function",
    "builtin_function_or_method",
    "instance",
    "_Feature"
   ],
   "window_display": false
  }
 },
 "nbformat": 4,
 "nbformat_minor": 5
}
