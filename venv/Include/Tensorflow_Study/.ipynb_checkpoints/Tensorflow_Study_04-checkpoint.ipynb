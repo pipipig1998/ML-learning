{
 "cells": [
  {
   "cell_type": "markdown",
   "id": "criminal-enemy",
   "metadata": {},
   "source": [
    "# 图和函数的简介\n",
    "\n",
    "主要介绍tensorflow关于计算图的核心内容，可以用计算图来简单的改变模型，加速模型的训练"
   ]
  },
  {
   "cell_type": "markdown",
   "id": "attended-blind",
   "metadata": {},
   "source": [
    "## 什么是计算图\n",
    "图可以帮助模型进行更好的计算\n",
    "下面是计算图的示例\n",
    "<div >\n",
    "    <img style=\"zoom:50%;\" src=\"https://tensorflow.google.cn/guide/images/intro_to_graphs/two-layer-network.png\")/>\n",
    "</div>"
   ]
  },
  {
   "cell_type": "markdown",
   "id": "owned-decade",
   "metadata": {},
   "source": [
    "## 计算图的好处\n",
    "\n",
    "1. 不需要python编译器就可以使用tensorflow的计算图\n",
    "2. 计算图有利于优化\n"
   ]
  },
  {
   "cell_type": "code",
   "execution_count": 7,
   "id": "powerful-change",
   "metadata": {
    "ExecuteTime": {
     "end_time": "2021-04-08T15:01:56.880855Z",
     "start_time": "2021-04-08T15:01:56.874871Z"
    }
   },
   "outputs": [],
   "source": [
    "import tensorflow as tf\n",
    "import timeit\n",
    "from datetime import datetime\n",
    "from time import time"
   ]
  },
  {
   "cell_type": "code",
   "execution_count": 11,
   "id": "compressed-imaging",
   "metadata": {
    "ExecuteTime": {
     "end_time": "2021-04-08T15:03:45.319128Z",
     "start_time": "2021-04-08T15:03:44.967069Z"
    }
   },
   "outputs": [
    {
     "name": "stdout",
     "output_type": "stream",
     "text": [
      "0.3291189670562744\n",
      "0.01296687126159668\n"
     ]
    }
   ],
   "source": [
    "@tf.function\n",
    "def a_regular_function(x, y, b):\n",
    "  x = tf.matmul(x, y)\n",
    "  x = x + b\n",
    "  return x\n",
    "\n",
    "def b_regular_function(x, y, b):\n",
    "  x = tf.matmul(x, y)\n",
    "  x = x + b\n",
    "  return x\n",
    "\n",
    "x1 = tf.constant([[1.0, 2.0]])\n",
    "y1 = tf.constant([[2.0], [3.0]])\n",
    "b1 = tf.constant(4.0)\n",
    "\n",
    "start=time()\n",
    "for i in range(100):\n",
    "    a_regular_function(x1,y1,b1)\n",
    "print(time()-start)\n",
    "# 0.013995170593261719\n",
    "start=time()\n",
    "for i in range(100):\n",
    "    b_regular_function(x1,y1,b1)\n",
    "print(time()-start)\n",
    "# 0.5042054653167725\n",
    "\n"
   ]
  },
  {
   "cell_type": "markdown",
   "id": "commercial-premium",
   "metadata": {},
   "source": [
    "\n",
    "---\n",
    "****很明显，速度变快了****<br><br>\n",
    "\n",
    "---\n",
    "如果我们第一次调用了a_regular_function,第二次再去调用的时候，并不会进行新的计算图创建<br><br>\n",
    "而是重新调用原有的计算图"
   ]
  },
  {
   "cell_type": "code",
   "execution_count": null,
   "id": "annoying-career",
   "metadata": {},
   "outputs": [],
   "source": []
  }
 ],
 "metadata": {
  "kernelspec": {
   "display_name": "tensorflow",
   "language": "python",
   "name": "tensorflow"
  },
  "language_info": {
   "codemirror_mode": {
    "name": "ipython",
    "version": 3
   },
   "file_extension": ".py",
   "mimetype": "text/x-python",
   "name": "python",
   "nbconvert_exporter": "python",
   "pygments_lexer": "ipython3",
   "version": "3.8.3"
  },
  "toc": {
   "base_numbering": 1,
   "nav_menu": {},
   "number_sections": true,
   "sideBar": true,
   "skip_h1_title": false,
   "title_cell": "Table of Contents",
   "title_sidebar": "Contents",
   "toc_cell": false,
   "toc_position": {},
   "toc_section_display": true,
   "toc_window_display": false
  },
  "varInspector": {
   "cols": {
    "lenName": 16,
    "lenType": 16,
    "lenVar": 40
   },
   "kernels_config": {
    "python": {
     "delete_cmd_postfix": "",
     "delete_cmd_prefix": "del ",
     "library": "var_list.py",
     "varRefreshCmd": "print(var_dic_list())"
    },
    "r": {
     "delete_cmd_postfix": ") ",
     "delete_cmd_prefix": "rm(",
     "library": "var_list.r",
     "varRefreshCmd": "cat(var_dic_list()) "
    }
   },
   "types_to_exclude": [
    "module",
    "function",
    "builtin_function_or_method",
    "instance",
    "_Feature"
   ],
   "window_display": false
  }
 },
 "nbformat": 4,
 "nbformat_minor": 5
}
