{
 "cells": [
  {
   "cell_type": "markdown",
   "id": "mineral-exemption",
   "metadata": {},
   "source": [
    "# 高级自动微分\n",
    "重点介绍 tf.GradientTape API 更深入、更不常见的功能。"
   ]
  },
  {
   "cell_type": "code",
   "execution_count": 1,
   "id": "boolean-durham",
   "metadata": {
    "ExecuteTime": {
     "end_time": "2021-04-09T13:45:01.912390Z",
     "start_time": "2021-04-09T13:44:58.350890Z"
    }
   },
   "outputs": [],
   "source": [
    "import tensorflow as tf\n",
    "\n",
    "import matplotlib as mpl\n",
    "import matplotlib.pyplot as plt\n",
    "\n",
    "mpl.rcParams['figure.figsize'] = (8, 6)\n"
   ]
  },
  {
   "cell_type": "markdown",
   "id": "least-complement",
   "metadata": {
    "ExecuteTime": {
     "end_time": "2021-04-09T13:45:53.711947Z",
     "start_time": "2021-04-09T13:45:53.706980Z"
    }
   },
   "source": [
    "## 控制梯度记录\n",
    "在自动微分指南中，您已了解构建梯度计算时如何控制条带监视变量和张量。<br><br>\n",
    "\n",
    "条带还具有操作记录的方法。<br><br>\n",
    "\n",
    "如果您希望停止记录梯度，可以使用 GradientTape.stop_recording() 暂时挂起记录。<br><br>\n",
    "\n",
    "---"
   ]
  },
  {
   "cell_type": "code",
   "execution_count": 4,
   "id": "afraid-firewall",
   "metadata": {
    "ExecuteTime": {
     "end_time": "2021-04-09T13:48:52.730253Z",
     "start_time": "2021-04-09T13:48:52.718286Z"
    },
    "collapsed": true
   },
   "outputs": [
    {
     "name": "stdout",
     "output_type": "stream",
     "text": [
      "dz_dx: 4.0\n",
      "dz_dy: None\n"
     ]
    }
   ],
   "source": [
    "x=tf.Variable(2.0)\n",
    "y=tf.Variable(3.0)\n",
    "with tf.GradientTape() as t:\n",
    "    x_sq=x*x\n",
    "    with t.stop_recording() :\n",
    "        y_sq=y*y\n",
    "    z=x_sq+y_sq\n",
    "grad = t.gradient(z,{'x':x,'y':y})\n",
    "print('dz_dx:',grad['x'].numpy())\n",
    "print('dz_dy:',grad['y'])"
   ]
  },
  {
   "cell_type": "markdown",
   "id": "single-bruce",
   "metadata": {},
   "source": [
    "如果您希望完全重新开始，请使用 reset()。通常，直接退出梯度带块并重新开始比较易于读取，但在退出梯度带块有困难或不可行时，可以使用 reset。"
   ]
  },
  {
   "cell_type": "code",
   "execution_count": 5,
   "id": "described-balance",
   "metadata": {
    "ExecuteTime": {
     "end_time": "2021-04-09T13:50:15.085148Z",
     "start_time": "2021-04-09T13:50:14.691812Z"
    },
    "collapsed": true
   },
   "outputs": [
    {
     "name": "stdout",
     "output_type": "stream",
     "text": [
      "dz/dx: tf.Tensor(4.0, shape=(), dtype=float32)\n",
      "dz/dy: None\n"
     ]
    }
   ],
   "source": [
    "x = tf.Variable(2.0)\n",
    "y = tf.Variable(3.0)\n",
    "reset = True\n",
    "\n",
    "with tf.GradientTape() as t:\n",
    "  y_sq = y * y\n",
    "  if reset:\n",
    "    # Throw out all the tape recorded so far\n",
    "    t.reset()\n",
    "  z = x * x + y_sq\n",
    "\n",
    "grad = t.gradient(z, {'x': x, 'y': y})\n",
    "\n",
    "print('dz/dx:', grad['x'])  # 2*x => 4\n",
    "print('dz/dy:', grad['y'])\n"
   ]
  },
  {
   "cell_type": "markdown",
   "id": "fifty-translator",
   "metadata": {
    "ExecuteTime": {
     "end_time": "2021-04-09T13:50:32.922384Z",
     "start_time": "2021-04-09T13:50:32.917397Z"
    }
   },
   "source": [
    "## 停止梯度\n",
    "与上面的全局条带控制相比，tf.stop_gradient 函数更加精确。\n",
    "<br><br>\n",
    "它可以用来**阻止梯度沿着特定路径流动，而不需要访问条带本身**"
   ]
  },
  {
   "cell_type": "code",
   "execution_count": 7,
   "id": "roman-wildlife",
   "metadata": {
    "ExecuteTime": {
     "end_time": "2021-04-09T13:51:37.765156Z",
     "start_time": "2021-04-09T13:51:37.333270Z"
    },
    "collapsed": true
   },
   "outputs": [
    {
     "name": "stdout",
     "output_type": "stream",
     "text": [
      "dz/dx: tf.Tensor(4.0, shape=(), dtype=float32)\n",
      "dz/dy: None\n"
     ]
    }
   ],
   "source": [
    "x = tf.Variable(2.0)\n",
    "y = tf.Variable(3.0)\n",
    "\n",
    "with tf.GradientTape() as t:\n",
    "  y_sq = y**2\n",
    "  z = x**2 + tf.stop_gradient(y_sq)\n",
    "\n",
    "grad = t.gradient(z, {'x': x, 'y': y})\n",
    "\n",
    "print('dz/dx:', grad['x'])  # 2*x => 4\n",
    "print('dz/dy:', grad['y'])\n"
   ]
  },
  {
   "cell_type": "markdown",
   "id": "objective-prompt",
   "metadata": {},
   "source": [
    "## 自定义梯度\n",
    "\n",
    "    1. 正在编写的新运算没有定义的梯度。\n",
    "    2. 默认计算在数值上不稳定。\n",
    "    3. 您希望从前向传递缓存开销大的计算。\n",
    "    4. 您想修改一个值（例如使用：tf.clip_by_value、tf.math.round）而不修改梯度。\n",
    "    \n",
    "对于编写新运算，您可以使用 tf.RegisterGradient 自行设置。请参阅其页面了解详细信息。（注意，梯度注册为全局，需谨慎更改。）<br><br>\n",
    "对于后三种情况，可以使用 tf.custom_gradient。\n"
   ]
  },
  {
   "cell_type": "code",
   "execution_count": 20,
   "id": "blond-redhead",
   "metadata": {
    "ExecuteTime": {
     "end_time": "2021-04-09T14:31:55.607457Z",
     "start_time": "2021-04-09T14:31:55.597485Z"
    }
   },
   "outputs": [
    {
     "name": "stdout",
     "output_type": "stream",
     "text": [
      "tf.Tensor(nan, shape=(), dtype=float32)\n"
     ]
    }
   ],
   "source": [
    "with tf.GradientTape() as t:\n",
    "    x=tf.Variable(100.0)\n",
    "    y=tf.math.log(1+tf.exp(x))\n",
    "grad=t.gradient(y,x)\n",
    "print(grad)\n"
   ]
  },
  {
   "cell_type": "code",
   "execution_count": 30,
   "id": "independent-shoulder",
   "metadata": {
    "ExecuteTime": {
     "end_time": "2021-04-09T14:37:25.753744Z",
     "start_time": "2021-04-09T14:37:25.739796Z"
    }
   },
   "outputs": [
    {
     "name": "stdout",
     "output_type": "stream",
     "text": [
      "tf.Tensor(1.0, shape=(), dtype=float32)\n"
     ]
    }
   ],
   "source": [
    "@tf.custom_gradient\n",
    "def log1pexp(x):\n",
    "    e=tf.exp(x)\n",
    "    def grad(upstream):\n",
    "        return upstream*(1-1/(1+e))\n",
    "    return tf.math.log(1 + e), grad\n",
    "with tf.GradientTape() as t:\n",
    "    x=tf.Variable(100000000.0)\n",
    "    y=log1pexp(x)\n",
    "grad=t.gradient(y,x)\n",
    "print(grad)"
   ]
  },
  {
   "cell_type": "markdown",
   "id": "governmental-pencil",
   "metadata": {},
   "source": [
    "在举个最简单的例子来看看自定义梯度<br><br>\n",
    "假设我们相对$z=x\\times y$进行求导"
   ]
  },
  {
   "cell_type": "code",
   "execution_count": 36,
   "id": "partial-shield",
   "metadata": {
    "ExecuteTime": {
     "end_time": "2021-04-09T14:43:12.576026Z",
     "start_time": "2021-04-09T14:43:12.565049Z"
    }
   },
   "outputs": [
    {
     "name": "stdout",
     "output_type": "stream",
     "text": [
      "tf.Tensor(2.0, shape=(), dtype=float32)\n"
     ]
    }
   ],
   "source": [
    "@tf.custom_gradient\n",
    "def my_gradient(x,y):\n",
    "    z=x*y\n",
    "    def grad(upstream):\n",
    "        return upstream*y,upstream*x\n",
    "    return z,grad\n",
    "with tf.GradientTape() as t:\n",
    "    x=tf.Variable(2.0)\n",
    "    y=tf.Variable(3.0)\n",
    "    z=my_gradient(x,y)\n",
    "# print(t.gradient(z,x))\n",
    "print(t.gradient(z,y))"
   ]
  },
  {
   "cell_type": "markdown",
   "id": "unlimited-pattern",
   "metadata": {
    "ExecuteTime": {
     "end_time": "2021-04-09T14:45:28.689145Z",
     "start_time": "2021-04-09T14:45:28.685155Z"
    }
   },
   "source": [
    "## 多个条带"
   ]
  },
  {
   "cell_type": "code",
   "execution_count": 39,
   "id": "floating-madison",
   "metadata": {
    "ExecuteTime": {
     "end_time": "2021-04-09T14:46:04.635918Z",
     "start_time": "2021-04-09T14:46:04.624922Z"
    }
   },
   "outputs": [
    {
     "name": "stdout",
     "output_type": "stream",
     "text": [
      "1.0\n",
      "0.25\n"
     ]
    }
   ],
   "source": [
    "x0 = tf.constant(0.0)\n",
    "x1 = tf.constant(0.0)\n",
    "\n",
    "with tf.GradientTape() as tape0, tf.GradientTape() as tape1:\n",
    "  tape0.watch(x0)\n",
    "  tape1.watch(x1)\n",
    "\n",
    "  y0 = tf.math.sin(x0)\n",
    "  y1 = tf.nn.sigmoid(x1)\n",
    "\n",
    "  y = y0 + y1\n",
    "\n",
    "  ys = tf.reduce_sum(y)\n",
    "print(tape0.gradient(ys, x0).numpy())   # cos(x) => 1.0\n",
    "print(tape1.gradient(ys, x1).numpy())   # sigmoid(x1)*(1-sigmoid(x1)) => 0.25\n"
   ]
  }
 ],
 "metadata": {
  "kernelspec": {
   "display_name": "tensorflow",
   "language": "python",
   "name": "tensorflow"
  },
  "language_info": {
   "codemirror_mode": {
    "name": "ipython",
    "version": 3
   },
   "file_extension": ".py",
   "mimetype": "text/x-python",
   "name": "python",
   "nbconvert_exporter": "python",
   "pygments_lexer": "ipython3",
   "version": "3.8.3"
  },
  "toc": {
   "base_numbering": 1,
   "nav_menu": {},
   "number_sections": true,
   "sideBar": true,
   "skip_h1_title": false,
   "title_cell": "Table of Contents",
   "title_sidebar": "Contents",
   "toc_cell": false,
   "toc_position": {},
   "toc_section_display": true,
   "toc_window_display": false
  },
  "varInspector": {
   "cols": {
    "lenName": 16,
    "lenType": 16,
    "lenVar": 40
   },
   "kernels_config": {
    "python": {
     "delete_cmd_postfix": "",
     "delete_cmd_prefix": "del ",
     "library": "var_list.py",
     "varRefreshCmd": "print(var_dic_list())"
    },
    "r": {
     "delete_cmd_postfix": ") ",
     "delete_cmd_prefix": "rm(",
     "library": "var_list.r",
     "varRefreshCmd": "cat(var_dic_list()) "
    }
   },
   "types_to_exclude": [
    "module",
    "function",
    "builtin_function_or_method",
    "instance",
    "_Feature"
   ],
   "window_display": false
  }
 },
 "nbformat": 4,
 "nbformat_minor": 5
}
