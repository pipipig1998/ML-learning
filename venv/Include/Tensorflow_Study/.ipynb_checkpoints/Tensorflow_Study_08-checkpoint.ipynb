{
 "cells": [
  {
   "cell_type": "markdown",
   "id": "sexual-enforcement",
   "metadata": {
    "ExecuteTime": {
     "end_time": "2021-04-09T15:15:37.688929Z",
     "start_time": "2021-04-09T15:15:37.683949Z"
    }
   },
   "source": [
    "# 不规则张量\n",
    "不规则张量是嵌套的可变长度列表的 TensorFlow 等效项。它们使存储和处理包含非均匀形状的数据变得容易\n",
    "1. 可变长度特征，例如电影的演员名单。\n",
    "2. 成批的可变长度顺序输入，例如句子或视频剪辑。\n",
    "3. 分层输入，例如细分为节、段落、句子和单词的文本文档。\n",
    "4. 结构化输入中的各个字段，例如协议缓冲区。\n",
    "有一百多种 TensorFlow 运算支持不规则张量,包括:<br><br>**数学运算**（如 tf.add 和 tf.reduce_mean）、<br><br>**数组运算**（如 tf.concat 和 tf.tile）、<br><br>**字符串操作运算**（如 tf.substr）、<br><br>**控制流运算**（如 tf.while_loop 和 tf.map_fn）等："
   ]
  },
  {
   "cell_type": "code",
   "execution_count": 1,
   "id": "actual-toolbox",
   "metadata": {
    "ExecuteTime": {
     "end_time": "2021-04-12T14:07:25.832661Z",
     "start_time": "2021-04-12T14:06:56.685428Z"
    }
   },
   "outputs": [],
   "source": [
    "import math\n",
    "import tensorflow as tf"
   ]
  },
  {
   "cell_type": "code",
   "execution_count": 5,
   "id": "military-reunion",
   "metadata": {
    "ExecuteTime": {
     "end_time": "2021-04-09T15:24:58.593242Z",
     "start_time": "2021-04-09T15:24:58.536422Z"
    },
    "collapsed": true
   },
   "outputs": [
    {
     "name": "stdout",
     "output_type": "stream",
     "text": [
      "<tf.RaggedTensor [[6, 4, 7, 4], [], [8, 12, 5], [9], []]>\n",
      "tf.Tensor([2.25              nan 5.33333333 6.                nan], shape=(5,), dtype=float64)\n",
      "<tf.RaggedTensor [[3, 1, 4, 1], [], [5, 9, 2], [6], [], [5, 3]]>\n",
      "<tf.RaggedTensor [[3, 1, 4, 1, 3, 1, 4, 1], [], [5, 9, 2, 5, 9, 2], [6, 6], []]>\n",
      "<tf.RaggedTensor [[b'So', b'lo'], [b'th', b'fo', b'al', b'th', b'fi']]>\n",
      "<tf.RaggedTensor [[9, 1, 16, 1], [], [25, 81, 4], [36], []]>\n"
     ]
    }
   ],
   "source": [
    "digits=tf.ragged.constant([[3, 1, 4, 1], [], [5, 9, 2], [6], []])\n",
    "words=tf.ragged.constant([[\"So\", \"long\"], [\"thanks\", \"for\", \"all\", \"the\", \"fish\"]])\n",
    "print(tf.add(digits, 3))\n",
    "print(tf.reduce_mean(digits, axis=1))\n",
    "print(tf.concat([digits, [[5, 3]]], axis=0))\n",
    "print(tf.tile(digits, [1, 2]))\n",
    "print(tf.strings.substr(words, 0, 2))\n",
    "print(tf.map_fn(tf.math.square, digits))\n"
   ]
  },
  {
   "cell_type": "markdown",
   "id": "right-forum",
   "metadata": {
    "ExecuteTime": {
     "end_time": "2021-04-09T15:26:42.652092Z",
     "start_time": "2021-04-09T15:26:42.646109Z"
    }
   },
   "source": [
    "## 构造不规则张量\n",
    "构造不规则张量的最简单方法是使用 tf.ragged.constant，\n",
    "它会构建与给定的嵌套 Python list 或 numpy array 相对应的 RaggedTensor："
   ]
  },
  {
   "cell_type": "code",
   "execution_count": 7,
   "id": "stopped-solomon",
   "metadata": {
    "ExecuteTime": {
     "end_time": "2021-04-09T15:27:01.098225Z",
     "start_time": "2021-04-09T15:27:01.091245Z"
    },
    "collapsed": true
   },
   "outputs": [
    {
     "name": "stdout",
     "output_type": "stream",
     "text": [
      "<tf.RaggedTensor [[[b'I', b'have', b'a', b'cat'], [b'His', b'name', b'is', b'Mat']], [[b'Do', b'you', b'want', b'to', b'come', b'visit'], [b\"I'm\", b'free', b'tomorrow']]]>\n"
     ]
    }
   ],
   "source": [
    "paragraphs = tf.ragged.constant([\n",
    "    [['I', 'have', 'a', 'cat'], ['His', 'name', 'is', 'Mat']],\n",
    "    [['Do', 'you', 'want', 'to', 'come', 'visit'], [\"I'm\", 'free', 'tomorrow']],\n",
    "])\n",
    "print(paragraphs)\n"
   ]
  },
  {
   "cell_type": "markdown",
   "id": "incoming-concord",
   "metadata": {},
   "source": [
    "如果知道每个值属于哪一行，可以使用 value_rowids 行分区张量构建 RaggedTensor：\n",
    "![tf.RaggedTensor.from_value_rowids](https://tensorflow.google.cn/images/ragged_tensors/value_rowids.png)\n"
   ]
  },
  {
   "cell_type": "code",
   "execution_count": 8,
   "id": "healthy-nursing",
   "metadata": {
    "ExecuteTime": {
     "end_time": "2021-04-09T15:29:29.336810Z",
     "start_time": "2021-04-09T15:29:28.798223Z"
    }
   },
   "outputs": [
    {
     "name": "stdout",
     "output_type": "stream",
     "text": [
      "<tf.RaggedTensor [[3, 1, 4, 1], [], [5, 9], [2]]>\n"
     ]
    }
   ],
   "source": [
    "print(tf.RaggedTensor.from_value_rowids(\n",
    "    values=[3, 1, 4, 1, 5, 9, 2],\n",
    "    value_rowids=[0, 0, 0, 0, 2, 2, 3]))\n"
   ]
  },
  {
   "cell_type": "markdown",
   "id": "conscious-member",
   "metadata": {},
   "source": [
    "如果知道每行的长度，可以使用 row_lengths 行分区张量：\n",
    "![tf.RaggedTensor.from_row_lengths](https://tensorflow.google.cn/images/ragged_tensors/row_lengths.png)"
   ]
  },
  {
   "cell_type": "code",
   "execution_count": 9,
   "id": "interesting-marble",
   "metadata": {
    "ExecuteTime": {
     "end_time": "2021-04-09T15:30:12.630623Z",
     "start_time": "2021-04-09T15:30:12.241317Z"
    }
   },
   "outputs": [
    {
     "name": "stdout",
     "output_type": "stream",
     "text": [
      "<tf.RaggedTensor [[3, 1, 4, 1], [], [5, 9], [2]]>\n"
     ]
    }
   ],
   "source": [
    "print(tf.RaggedTensor.from_row_lengths(\n",
    "    values=[3, 1, 4, 1, 5, 9, 2],\n",
    "    row_lengths=[4, 0, 2, 1]))\n"
   ]
  },
  {
   "cell_type": "markdown",
   "id": "increasing-commitment",
   "metadata": {
    "ExecuteTime": {
     "end_time": "2021-04-09T15:31:56.521853Z",
     "start_time": "2021-04-09T15:31:56.513874Z"
    }
   },
   "source": [
    "如果知道指示每行开始和结束的索引，可以使用 row_splits 行分区张量：\n",
    "![tf.RaggedTensor.from_row_splits](https://tensorflow.google.cn/images/ragged_tensors/row_splits.png)"
   ]
  },
  {
   "cell_type": "code",
   "execution_count": 11,
   "id": "informative-burning",
   "metadata": {
    "ExecuteTime": {
     "end_time": "2021-04-09T15:32:31.428360Z",
     "start_time": "2021-04-09T15:32:31.041884Z"
    }
   },
   "outputs": [
    {
     "name": "stdout",
     "output_type": "stream",
     "text": [
      "<tf.RaggedTensor [[3, 1, 4, 1], [], [5, 9], [2]]>\n"
     ]
    }
   ],
   "source": [
    "print(tf.RaggedTensor.from_row_splits(\n",
    "    values=[3, 1, 4, 1, 5, 9, 2],\n",
    "    row_splits=[0, 4, 4, 6, 7]))\n"
   ]
  },
  {
   "cell_type": "markdown",
   "id": "whole-jefferson",
   "metadata": {
    "ExecuteTime": {
     "end_time": "2021-04-09T15:33:17.387085Z",
     "start_time": "2021-04-09T15:33:17.380093Z"
    }
   },
   "source": [
    "## 可以在不规则张量中存储什么\n",
    "\n",
    "与普通 Tensor 一样，RaggedTensor 中的所有值必须具有相同的类型；所有值必须处于相同的嵌套深度（张量的秩）："
   ]
  },
  {
   "cell_type": "code",
   "execution_count": 13,
   "id": "taken-wells",
   "metadata": {
    "ExecuteTime": {
     "end_time": "2021-04-09T15:34:16.389175Z",
     "start_time": "2021-04-09T15:34:16.379203Z"
    },
    "collapsed": true
   },
   "outputs": [
    {
     "name": "stdout",
     "output_type": "stream",
     "text": [
      "<tf.RaggedTensor [[b'Hi'], [b'How', b'are', b'you']]>\n",
      "<tf.RaggedTensor [[[1, 2], [3]], [[4, 5]]]>\n",
      "Can't convert Python sequence with mixed types to Tensor.\n",
      "all scalar values must have the same nesting depth\n"
     ]
    }
   ],
   "source": [
    "print(tf.ragged.constant([[\"Hi\"], [\"How\", \"are\", \"you\"]]))  # ok: type=string, rank=2\n",
    "print(tf.ragged.constant([[[1, 2], [3]], [[4, 5]]]))        # ok: type=int32, rank=3\n",
    "try:\n",
    "  tf.ragged.constant([[\"one\", \"two\"], [3, 4]])              # bad: multiple types\n",
    "except ValueError as exception:\n",
    "  print(exception)\n",
    "try:\n",
    "  tf.ragged.constant([\"A\", [\"B\", \"C\"]])                     # bad: multiple nesting depths\n",
    "except ValueError as exception:\n",
    "  print(exception)\n"
   ]
  },
  {
   "cell_type": "markdown",
   "id": "allied-daughter",
   "metadata": {},
   "source": [
    "①生成索引表\n",
    "②生成word的hash值\n",
    "③根据hash值进行嵌入\n",
    "\n",
    "④生成word带#的结尾与开头\n",
    "⑤进行字母表的连接\n",
    "![image](https://tensorflow.google.cn/images/ragged_tensors/ragged_example.png)"
   ]
  },
  {
   "cell_type": "code",
   "execution_count": 15,
   "id": "smoking-blame",
   "metadata": {
    "ExecuteTime": {
     "end_time": "2021-04-12T15:14:03.404708Z",
     "start_time": "2021-04-12T15:14:02.489063Z"
    },
    "collapsed": true
   },
   "outputs": [
    {
     "name": "stdout",
     "output_type": "stream",
     "text": [
      "(1024, 4)\n",
      "tf.Tensor(\n",
      "[[ 0.08846062  0.03866541  0.41432765 -0.00089041]\n",
      " [-0.10011528  0.22524214  0.28767455 -0.11140803]\n",
      " [ 0.1195671  -0.2588686   0.24398302  0.06877986]], shape=(3, 4), dtype=float32)\n"
     ]
    }
   ],
   "source": [
    "queries =tf.ragged.constant([['Who', 'is', 'Dan', 'Smith'],\n",
    "                              ['Pause'],\n",
    "                              ['Will', 'it', 'rain', 'later', 'today']])\n",
    "# Create an embedding table.\n",
    "num_buckets =1024\n",
    "embedding_size = 4\n",
    "embedding_table=tf.Variable(\n",
    "    tf.random.normal(\n",
    "        [num_buckets,embedding_size],stddev=1.0/math.sqrt(embedding_size)))\n",
    "print(embedding_table.shape)\n",
    "# Look up the embedding for each word.\n",
    "word_buckets = tf.strings.to_hash_bucket_fast(queries, num_buckets)\n",
    "word_embeddings = tf.nn.embedding_lookup(embedding_table, word_buckets) # ①\n",
    "\n",
    "# Add markers to the beginning and end of each sentence.\n",
    "marker = tf.fill([queries.nrows(), 1], '#')\n",
    "padded = tf.concat([marker, queries, marker], axis=1)   # ②\n",
    "\n",
    "# Build word bigrams & look up embeddings.\n",
    "bigrams = tf.strings.join([padded[:, :-1], padded[:, 1:]], separator='+')\n",
    "bigram_buckets = tf.strings.to_hash_bucket_fast(bigrams, num_buckets)\n",
    "bigram_embeddings = tf.nn.embedding_lookup(embedding_table, bigram_buckets)\n",
    "# Find the average embedding for each sentence\n",
    "all_embeddings = tf.concat([word_embeddings, bigram_embeddings], axis=1)    # ⑤\n",
    "avg_embedding = tf.reduce_mean(all_embeddings, axis=1)                      # ⑥\n",
    "print(avg_embedding)\n"
   ]
  },
  {
   "cell_type": "markdown",
   "id": "sporting-legislation",
   "metadata": {},
   "source": [
    "使用单词进行小型的LSTM单元进行测试例子"
   ]
  },
  {
   "cell_type": "code",
   "execution_count": 17,
   "id": "another-object",
   "metadata": {
    "ExecuteTime": {
     "end_time": "2021-04-12T15:48:45.539390Z",
     "start_time": "2021-04-12T15:48:35.638774Z"
    }
   },
   "outputs": [
    {
     "name": "stdout",
     "output_type": "stream",
     "text": [
      "WARNING:tensorflow:Layer lstm will not use cuDNN kernel since it doesn't meet the cuDNN kernel criteria. It will use generic GPU kernel as fallback when running on GPU\n",
      "Epoch 1/5\n"
     ]
    },
    {
     "name": "stderr",
     "output_type": "stream",
     "text": [
      "E:\\ProgramFiles\\anaconda\\envs\\tensorflow\\lib\\site-packages\\tensorflow\\python\\framework\\indexed_slices.py:435: UserWarning: Converting sparse IndexedSlices(IndexedSlices(indices=Tensor(\"gradient_tape/sequential/lstm/RaggedToTensor/boolean_mask_1/GatherV2:0\", shape=(None,), dtype=int32), values=Tensor(\"gradient_tape/sequential/lstm/RaggedToTensor/boolean_mask/GatherV2:0\", shape=(None, 16), dtype=float32), dense_shape=Tensor(\"gradient_tape/sequential/lstm/RaggedToTensor/Shape:0\", shape=(2,), dtype=int32))) to a dense Tensor of unknown shape. This may consume a large amount of memory.\n",
      "  warnings.warn(\n"
     ]
    },
    {
     "name": "stdout",
     "output_type": "stream",
     "text": [
      "1/1 [==============================] - 8s 8s/step - loss: 3.6396\n",
      "Epoch 2/5\n",
      "1/1 [==============================] - 0s 70ms/step - loss: 1.9958\n",
      "Epoch 3/5\n",
      "1/1 [==============================] - ETA: 0s - loss: 1.968 - 0s 74ms/step - loss: 1.9684\n",
      "Epoch 4/5\n",
      "1/1 [==============================] - 0s 70ms/step - loss: 1.9421\n",
      "Epoch 5/5\n",
      "1/1 [==============================] - 0s 75ms/step - loss: 1.9080\n",
      "[[ 0.02688295]\n",
      " [ 0.00108126]\n",
      " [ 0.01995181]\n",
      " [-0.00023579]]\n"
     ]
    }
   ],
   "source": [
    "sentences = tf.constant(\n",
    "    ['What makes you think she is a witch?',\n",
    "     'She turned me into a newt.',\n",
    "     'A newt?',\n",
    "     'Well, I got better.'])\n",
    "is_question = tf.constant([True, False, True, False])\n",
    "\n",
    "# Preprocess the input strings.\n",
    "\n",
    "hash_buckets = 1000\n",
    "words=tf.strings.split(sentences,' ')\n",
    "hashed_words=tf.strings.to_hash_bucket_fast(words,hash_buckets)\n",
    "\n",
    "# Build the Keras model.\n",
    "keras_model=tf.keras.Sequential(\n",
    "[\n",
    "    tf.keras.layers.Input(shape=[None], dtype=tf.int64, ragged=True),\n",
    "    tf.keras.layers.Embedding(hash_buckets,16),\n",
    "    tf.keras.layers.LSTM(32, use_bias=False),\n",
    "    tf.keras.layers.Dense(32),\n",
    "    tf.keras.layers.Activation(tf.nn.relu),\n",
    "    tf.keras.layers.Dense(1)\n",
    "\n",
    "]\n",
    ")\n",
    "keras_model.compile(loss='binary_crossentropy', optimizer='rmsprop')\n",
    "keras_model.fit(hashed_words, is_question, epochs=5)\n",
    "print(keras_model.predict(hashed_words))\n"
   ]
  }
 ],
 "metadata": {
  "kernelspec": {
   "display_name": "tensorflow",
   "language": "python",
   "name": "tensorflow"
  },
  "language_info": {
   "codemirror_mode": {
    "name": "ipython",
    "version": 3
   },
   "file_extension": ".py",
   "mimetype": "text/x-python",
   "name": "python",
   "nbconvert_exporter": "python",
   "pygments_lexer": "ipython3",
   "version": "3.8.3"
  },
  "toc": {
   "base_numbering": 1,
   "nav_menu": {},
   "number_sections": true,
   "sideBar": true,
   "skip_h1_title": false,
   "title_cell": "Table of Contents",
   "title_sidebar": "Contents",
   "toc_cell": false,
   "toc_position": {},
   "toc_section_display": true,
   "toc_window_display": false
  },
  "varInspector": {
   "cols": {
    "lenName": 16,
    "lenType": 16,
    "lenVar": 40
   },
   "kernels_config": {
    "python": {
     "delete_cmd_postfix": "",
     "delete_cmd_prefix": "del ",
     "library": "var_list.py",
     "varRefreshCmd": "print(var_dic_list())"
    },
    "r": {
     "delete_cmd_postfix": ") ",
     "delete_cmd_prefix": "rm(",
     "library": "var_list.r",
     "varRefreshCmd": "cat(var_dic_list()) "
    }
   },
   "types_to_exclude": [
    "module",
    "function",
    "builtin_function_or_method",
    "instance",
    "_Feature"
   ],
   "window_display": false
  }
 },
 "nbformat": 4,
 "nbformat_minor": 5
}
