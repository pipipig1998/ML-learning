{
 "cells": [
  {
   "cell_type": "markdown",
   "id": "assumed-johnson",
   "metadata": {},
   "source": [
    "# Keras  Sequential model\n",
    "Sequential model是一个序列模型，用来堆叠全连接层，仅有一个输入层和一个输出层<br>\n"
   ]
  },
  {
   "cell_type": "code",
   "execution_count": 1,
   "id": "agricultural-detector",
   "metadata": {
    "ExecuteTime": {
     "end_time": "2021-04-13T03:38:10.814575Z",
     "start_time": "2021-04-13T03:38:07.517194Z"
    }
   },
   "outputs": [],
   "source": [
    "import tensorflow as tf\n",
    "import numpy\n",
    "import matplotlib.pyplot as plt"
   ]
  },
  {
   "cell_type": "code",
   "execution_count": 2,
   "id": "buried-syndrome",
   "metadata": {
    "ExecuteTime": {
     "end_time": "2021-04-13T03:41:03.486122Z",
     "start_time": "2021-04-13T03:40:57.823230Z"
    }
   },
   "outputs": [],
   "source": [
    "model = tf.keras.Sequential(\n",
    "    [\n",
    "        tf.keras.layers.Dense(2,activation='relu',name='layers1'),\n",
    "        tf.keras.layers.Dense(3,activation='relu',name='layers2'),\n",
    "        tf.keras.layers.Dense(4,name='layer3')\n",
    "    ]\n",
    ")\n",
    "# Call model on a test input\n",
    "x=tf.ones((3,3))\n",
    "y=model(x)\n",
    "\n",
    "# 上述书写就等价于下面的代码，只不过用Sequential更直观易于理解\n",
    "# # Create 3 layers\n",
    "# layer1 = layers.Dense(2, activation=\"relu\", name=\"layer1\")\n",
    "# layer2 = layers.Dense(3, activation=\"relu\", name=\"layer2\")\n",
    "# layer3 = layers.Dense(4, name=\"layer3\")\n",
    "\n",
    "# # Call layers on a test input\n",
    "# x = tf.ones((3, 3))\n",
    "# y = layer3(layer2(layer1(x)))\n"
   ]
  },
  {
   "cell_type": "markdown",
   "id": "random-vatican",
   "metadata": {},
   "source": []
  }
 ],
 "metadata": {
  "kernelspec": {
   "display_name": "tensorflow",
   "language": "python",
   "name": "tensorflow"
  },
  "language_info": {
   "codemirror_mode": {
    "name": "ipython",
    "version": 3
   },
   "file_extension": ".py",
   "mimetype": "text/x-python",
   "name": "python",
   "nbconvert_exporter": "python",
   "pygments_lexer": "ipython3",
   "version": "3.8.3"
  },
  "toc": {
   "base_numbering": 1,
   "nav_menu": {},
   "number_sections": true,
   "sideBar": true,
   "skip_h1_title": false,
   "title_cell": "Table of Contents",
   "title_sidebar": "Contents",
   "toc_cell": false,
   "toc_position": {},
   "toc_section_display": true,
   "toc_window_display": false
  },
  "varInspector": {
   "cols": {
    "lenName": 16,
    "lenType": 16,
    "lenVar": 40
   },
   "kernels_config": {
    "python": {
     "delete_cmd_postfix": "",
     "delete_cmd_prefix": "del ",
     "library": "var_list.py",
     "varRefreshCmd": "print(var_dic_list())"
    },
    "r": {
     "delete_cmd_postfix": ") ",
     "delete_cmd_prefix": "rm(",
     "library": "var_list.r",
     "varRefreshCmd": "cat(var_dic_list()) "
    }
   },
   "types_to_exclude": [
    "module",
    "function",
    "builtin_function_or_method",
    "instance",
    "_Feature"
   ],
   "window_display": false
  }
 },
 "nbformat": 4,
 "nbformat_minor": 5
}
