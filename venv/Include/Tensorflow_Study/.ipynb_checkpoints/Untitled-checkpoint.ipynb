{
 "cells": [
  {
   "cell_type": "code",
   "execution_count": 1,
   "metadata": {
    "ExecuteTime": {
     "end_time": "2021-04-02T15:34:40.705469Z",
     "start_time": "2021-04-02T15:34:25.316039Z"
    }
   },
   "outputs": [],
   "source": [
    "import tensorflow as tf\n",
    "import numpy as np\n",
    "import cProfile"
   ]
  },
  {
   "cell_type": "markdown",
   "metadata": {},
   "source": [
    "---\n",
    "\n",
    "编写fizzbuff之类的文件\n",
    "\n",
    "\n",
    "---\n",
    "\n"
   ]
  },
  {
   "cell_type": "code",
   "execution_count": 16,
   "metadata": {
    "ExecuteTime": {
     "end_time": "2021-04-02T15:46:16.307102Z",
     "start_time": "2021-04-02T15:46:15.920045Z"
    },
    "scrolled": true
   },
   "outputs": [
    {
     "name": "stdout",
     "output_type": "stream",
     "text": [
      "数字1是奇数\n",
      "数字2偶数\n",
      "数字3是奇数\n",
      "数字4偶数\n",
      "数字5是奇数\n",
      "数字6偶数\n",
      "数字7是奇数\n",
      "数字8偶数\n",
      "数字9是奇数\n",
      "数字10偶数\n",
      "数字11是奇数\n"
     ]
    }
   ],
   "source": [
    "# 使用新的tensorflow很容易实现下面的功能，可以和numpy数据进行转换，也可以和python的数据类型进行转换\n",
    "# 十分方便\n",
    "max_num=tf.convert_to_tensor(12)\n",
    "for i in range(1,max_num.numpy()):\n",
    "    i=tf.constant(i)\n",
    "    if int(i%2):\n",
    "        print('数字{}是奇数'.format(int(i)))\n",
    "    else:\n",
    "        print('数字{}偶数'.format(int(i)))\n",
    "    \n"
   ]
  },
  {
   "cell_type": "markdown",
   "metadata": {},
   "source": [
    "---\n",
    "下面演示计算梯度，所有的计算都会保存在一个带子中，使用带子是前向反馈，想要反向反馈可以将带子倒放，从而实现反向传播\n",
    "但是 tf.GradientTape 只能计算一个梯度，后续调用会引发运行错误\n",
    "---\n",
    "\n"
   ]
  },
  {
   "cell_type": "code",
   "execution_count": 21,
   "metadata": {
    "ExecuteTime": {
     "end_time": "2021-04-02T15:54:23.006014Z",
     "start_time": "2021-04-02T15:54:22.996023Z"
    }
   },
   "outputs": [
    {
     "name": "stdout",
     "output_type": "stream",
     "text": [
      "tf.Tensor([[2.]], shape=(1, 1), dtype=float32)\n"
     ]
    }
   ],
   "source": [
    "w=tf.Variable([[1.0]])\n",
    "with tf.GradientTape() as tape:\n",
    "#     定义损失函数\n",
    "    loss=w*w\n",
    "grad=tape.gradient(loss,w)\n",
    "print(grad)\n"
   ]
  },
  {
   "cell_type": "code",
   "execution_count": null,
   "metadata": {},
   "outputs": [],
   "source": []
  }
 ],
 "metadata": {
  "kernelspec": {
   "display_name": "Python 3",
   "language": "python",
   "name": "python3"
  },
  "language_info": {
   "codemirror_mode": {
    "name": "ipython",
    "version": 3
   },
   "file_extension": ".py",
   "mimetype": "text/x-python",
   "name": "python",
   "nbconvert_exporter": "python",
   "pygments_lexer": "ipython3",
   "version": "3.8.3"
  },
  "toc": {
   "base_numbering": 1,
   "nav_menu": {},
   "number_sections": true,
   "sideBar": true,
   "skip_h1_title": false,
   "title_cell": "Table of Contents",
   "title_sidebar": "Contents",
   "toc_cell": false,
   "toc_position": {},
   "toc_section_display": true,
   "toc_window_display": false
  },
  "varInspector": {
   "cols": {
    "lenName": 16,
    "lenType": 16,
    "lenVar": 40
   },
   "kernels_config": {
    "python": {
     "delete_cmd_postfix": "",
     "delete_cmd_prefix": "del ",
     "library": "var_list.py",
     "varRefreshCmd": "print(var_dic_list())"
    },
    "r": {
     "delete_cmd_postfix": ") ",
     "delete_cmd_prefix": "rm(",
     "library": "var_list.r",
     "varRefreshCmd": "cat(var_dic_list()) "
    }
   },
   "types_to_exclude": [
    "module",
    "function",
    "builtin_function_or_method",
    "instance",
    "_Feature"
   ],
   "window_display": false
  }
 },
 "nbformat": 4,
 "nbformat_minor": 4
}
