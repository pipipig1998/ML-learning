{
 "cells": [
  {
   "cell_type": "code",
   "execution_count": null,
   "metadata": {
    "ExecuteTime": {
     "end_time": "2021-04-03T02:09:48.909544Z",
     "start_time": "2021-04-03T02:09:38.274Z"
    }
   },
   "outputs": [],
   "source": [
    "import tensorflow as tf\n",
    "import numpy as np\n",
    "import cProfile"
   ]
  },
  {
   "cell_type": "markdown",
   "metadata": {},
   "source": [
    "---\n",
    "\n",
    "编写fizzbuff之类的文件\n",
    "\n",
    "实现tensor和numpy以及python类型的相互转换\n",
    "\n",
    "---\n",
    "\n"
   ]
  },
  {
   "cell_type": "code",
   "execution_count": null,
   "metadata": {
    "ExecuteTime": {
     "end_time": "2021-04-03T02:09:48.911530Z",
     "start_time": "2021-04-03T02:09:38.275Z"
    },
    "scrolled": true
   },
   "outputs": [],
   "source": [
    "# 使用新的tensorflow很容易实现下面的功能，可以和numpy数据进行转换，也可以和python的数据类型进行转换\n",
    "# 十分方便\n",
    "max_num=tf.convert_to_tensor(12)\n",
    "for i in range(1,max_num.numpy()):\n",
    "    i=tf.constant(i)\n",
    "    if int(i%2):\n",
    "        print('数字{}是奇数'.format(int(i)))\n",
    "    else:\n",
    "        print('数字{}偶数'.format(int(i)))\n",
    "    \n"
   ]
  },
  {
   "cell_type": "markdown",
   "metadata": {},
   "source": [
    "---\n",
    "下面演示计算梯度，所有的计算都会保存在一个带子中，使用带子是前向反馈，想要反向反馈可以将带子倒放，从而实现反向传播\n",
    "但是 tf.GradientTape 只能计算一个梯度，后续调用会引发运行错误\n",
    "\n",
    "---\n",
    "\n"
   ]
  },
  {
   "cell_type": "code",
   "execution_count": null,
   "metadata": {
    "ExecuteTime": {
     "end_time": "2021-04-03T02:09:48.912527Z",
     "start_time": "2021-04-03T02:09:38.276Z"
    }
   },
   "outputs": [],
   "source": [
    "w=tf.Variable([[1.0]])\n",
    "with tf.GradientTape() as tape:\n",
    "#     定义损失函数\n",
    "    loss=w*w\n",
    "grad=tape.gradient(loss,w)\n",
    "print(grad)\n"
   ]
  },
  {
   "cell_type": "markdown",
   "metadata": {},
   "source": [
    "---\n",
    "深度学习中的Dropout编写，原理是随机的抛出掉某一层的单元，这个以一定的概率，从而达到减少单元的效果，可以避免欠拟合\n",
    "\n",
    "---"
   ]
  },
  {
   "cell_type": "code",
   "execution_count": 10,
   "metadata": {
    "ExecuteTime": {
     "end_time": "2021-04-03T08:50:03.023111Z",
     "start_time": "2021-04-03T08:50:03.004156Z"
    }
   },
   "outputs": [
    {
     "name": "stdout",
     "output_type": "stream",
     "text": [
      "[[ True  True  True  True]\n",
      " [ True  True  True  True]\n",
      " [ True False  True  True]]\n",
      "[[ 1  2  3  4]\n",
      " [ 5  6  7  8]\n",
      " [ 9  0 11 12]]\n",
      "[[ 1.25  2.5   3.75  5.  ]\n",
      " [ 6.25  7.5   8.75 10.  ]\n",
      " [11.25  0.   13.75 15.  ]]\n"
     ]
    }
   ],
   "source": [
    "# 这里0.8就代表这keep-prob\n",
    "# d4代表第三层的Dropout矩阵，生成的是一个bool矩阵\n",
    "d3=np.random.randn(3,4)<0.8\n",
    "print(d3)\n",
    "a=[\n",
    "    [1,2,3,4],\n",
    "    [5,6,7,8],\n",
    "    [9,10,11,12]\n",
    "]\n",
    "# 做矩阵的元素乘法，每个元素乘上d3中相应的元素\n",
    "a=a*d3\n",
    "print(a)\n",
    "# 修正减少了0.2数据的影响\n",
    "a=a/0.8\n",
    "print(a)"
   ]
  },
  {
   "cell_type": "code",
   "execution_count": null,
   "metadata": {},
   "outputs": [],
   "source": []
  }
 ],
 "metadata": {
  "kernelspec": {
   "display_name": "tensorflow",
   "language": "python",
   "name": "tensorflow"
  },
  "language_info": {
   "codemirror_mode": {
    "name": "ipython",
    "version": 3
   },
   "file_extension": ".py",
   "mimetype": "text/x-python",
   "name": "python",
   "nbconvert_exporter": "python",
   "pygments_lexer": "ipython3",
   "version": "3.8.3"
  },
  "toc": {
   "base_numbering": 1,
   "nav_menu": {},
   "number_sections": true,
   "sideBar": true,
   "skip_h1_title": false,
   "title_cell": "Table of Contents",
   "title_sidebar": "Contents",
   "toc_cell": false,
   "toc_position": {},
   "toc_section_display": true,
   "toc_window_display": false
  },
  "varInspector": {
   "cols": {
    "lenName": 16,
    "lenType": 16,
    "lenVar": 40
   },
   "kernels_config": {
    "python": {
     "delete_cmd_postfix": "",
     "delete_cmd_prefix": "del ",
     "library": "var_list.py",
     "varRefreshCmd": "print(var_dic_list())"
    },
    "r": {
     "delete_cmd_postfix": ") ",
     "delete_cmd_prefix": "rm(",
     "library": "var_list.r",
     "varRefreshCmd": "cat(var_dic_list()) "
    }
   },
   "oldHeight": 122.4,
   "position": {
    "height": "40px",
    "left": "1145.2px",
    "right": "20px",
    "top": "120px",
    "width": "350px"
   },
   "types_to_exclude": [
    "module",
    "function",
    "builtin_function_or_method",
    "instance",
    "_Feature"
   ],
   "varInspector_section_display": "none",
   "window_display": false
  }
 },
 "nbformat": 4,
 "nbformat_minor": 4
}
