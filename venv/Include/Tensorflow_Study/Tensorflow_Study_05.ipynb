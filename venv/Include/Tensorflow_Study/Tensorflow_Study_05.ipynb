{
 "cells": [
  {
   "cell_type": "markdown",
   "id": "complicated-fellow",
   "metadata": {},
   "source": [
    "# 模块、层和模型简介\n",
    "\n",
    "要进行 TensorFlow 机器学习，可能需要定义、保存和恢复模型。<br>\n",
    "模型是：\n",
    "1. 一个在张量上进行某些计算的函数（前向传递）\n",
    "2. 一些可以更新以响应训练的变量\n"
   ]
  },
  {
   "cell_type": "code",
   "execution_count": 4,
   "id": "behind-humanitarian",
   "metadata": {
    "ExecuteTime": {
     "end_time": "2021-04-09T11:57:27.157619Z",
     "start_time": "2021-04-09T11:57:27.152635Z"
    }
   },
   "outputs": [],
   "source": [
    "import tensorflow as tf\n",
    "from datetime import datetime"
   ]
  },
  {
   "cell_type": "markdown",
   "id": "nasty-twist",
   "metadata": {},
   "source": [
    "## 在 TensorFlow 中定义模型和层\n",
    "\n",
    "大多数模型都由层组成。<br>\n",
    "层是具有已知数学结构的函数，可以重复使用并且具有可训练的变量。\n",
    "<br>在 TensorFlow 中，层和模型的大多数高级实现（例如 Keras 或 Sonnet）都在以下同一个基础类上构建：tf.Module。\n",
    "\n",
    "---"
   ]
  },
  {
   "cell_type": "code",
   "execution_count": 2,
   "id": "assisted-count",
   "metadata": {
    "ExecuteTime": {
     "end_time": "2021-04-08T15:21:45.682421Z",
     "start_time": "2021-04-08T15:21:43.579042Z"
    }
   },
   "outputs": [
    {
     "data": {
      "text/plain": [
       "<tf.Tensor: shape=(), dtype=float32, numpy=30.0>"
      ]
     },
     "execution_count": 2,
     "metadata": {},
     "output_type": "execute_result"
    }
   ],
   "source": [
    "# 定义自己的模型\n",
    "class SimpleMoudle(tf.Module):\n",
    "    def __init__(self,name=None):\n",
    "        super().__init__(name=name)\n",
    "        self.a_variable=tf.Variable(5.0,name=\"train_me\")\n",
    "        self.non_trainable_variable = tf.Variable(5.0, trainable=False, name=\"do_not_train_me\")\n",
    "    def __call__(self, x):\n",
    "        return self.a_variable * x + self.non_trainable_variable\n",
    "simpleMoudle=SimpleMoudle(name=\"simple\")\n",
    "simpleMoudle(tf.constant(5.0))\n"
   ]
  },
  {
   "cell_type": "markdown",
   "id": "corrected-protein",
   "metadata": {},
   "source": [
    "```__call__``` 并无特殊之处，只是其行为与 Python 可调用对象类似；您可以使用任何函数来调用模型。<br><br>\n",
    "您可以出于任何原因开启和关闭变量的可训练性，包括在微调过程中冻结层和变量。<br><br>\n"
   ]
  },
  {
   "cell_type": "code",
   "execution_count": 45,
   "id": "loaded-visit",
   "metadata": {
    "ExecuteTime": {
     "end_time": "2021-04-09T12:25:07.808389Z",
     "start_time": "2021-04-09T12:25:07.801409Z"
    }
   },
   "outputs": [],
   "source": [
    "class Dense(tf.Module):\n",
    "    def __init__(self,in_features, out_features,name=None):\n",
    "        super().__init__(name=name)\n",
    "        self.w=tf.Variable(\n",
    "            tf.random.normal([in_features,out_features]),name='w'\n",
    "        )\n",
    "        self.b=tf.Variable(tf.zeros([out_features]),name='b'\n",
    "        )\n",
    "    def __call__(self,x):\n",
    "        y=tf.matmul(x,self.w)+self.b\n",
    "        return tf.nn.relu(y)"
   ]
  },
  {
   "cell_type": "code",
   "execution_count": 46,
   "id": "colored-crisis",
   "metadata": {
    "ExecuteTime": {
     "end_time": "2021-04-09T12:25:09.893111Z",
     "start_time": "2021-04-09T12:25:09.887117Z"
    }
   },
   "outputs": [],
   "source": [
    "class SequentialMoudle(tf.Module):\n",
    "    def __init__(self,name=None):\n",
    "        super().__init__(name=name)\n",
    "        self.dense_1=Dense(in_features=3,out_features=3)\n",
    "        self.dense_2=Dense(in_features=3,out_features=2)\n",
    "    def __call__(self,x):\n",
    "        x=self.dense_1(x)\n",
    "        return self.dense_2(x)\n"
   ]
  },
  {
   "cell_type": "code",
   "execution_count": 47,
   "id": "utility-blackjack",
   "metadata": {
    "ExecuteTime": {
     "end_time": "2021-04-09T12:25:12.602479Z",
     "start_time": "2021-04-09T12:25:12.207872Z"
    }
   },
   "outputs": [
    {
     "name": "stdout",
     "output_type": "stream",
     "text": [
      "Model results: tf.Tensor([[4.9118958 5.9864974]], shape=(1, 2), dtype=float32)\n"
     ]
    }
   ],
   "source": [
    "my_model=SequentialModule(name=\"the_modle\")\n",
    "print(\"Model results:\", my_model(tf.constant([[2.0, 2.0, 2.0]])))"
   ]
  },
  {
   "cell_type": "markdown",
   "id": "owned-cornwall",
   "metadata": {},
   "source": [
    "## 等待创建变量\n",
    "通过将变量创建推迟到第一次使用特定输入形状调用模块时，您将无需预先指定输入大小。"
   ]
  },
  {
   "cell_type": "code",
   "execution_count": 52,
   "id": "primary-principal",
   "metadata": {
    "ExecuteTime": {
     "end_time": "2021-04-09T12:30:50.227885Z",
     "start_time": "2021-04-09T12:30:50.219907Z"
    }
   },
   "outputs": [],
   "source": [
    "class FlexibleDenseModule(tf.Module):\n",
    "    def __init__(self,out_features,name=None):\n",
    "        super().__init__(name=name)\n",
    "        self.build=False\n",
    "        self.out_features=out_features\n",
    "    def __call__(self,x):\n",
    "        if not self.build:\n",
    "            self.w=tf.Variable(\n",
    "                tf.random.normal([x.shape[-1], self.out_features]), name='w'\n",
    "            )\n",
    "            self.b = tf.Variable(tf.zeros([self.out_features]), name='b')\n",
    "            self.is_built = True\n",
    "        y = tf.matmul(x, self.w) + self.b\n",
    "        return tf.nn.relu(y)\n",
    "\n"
   ]
  },
  {
   "cell_type": "code",
   "execution_count": 53,
   "id": "diverse-hollywood",
   "metadata": {
    "ExecuteTime": {
     "end_time": "2021-04-09T12:30:52.527423Z",
     "start_time": "2021-04-09T12:30:52.129233Z"
    },
    "collapsed": true
   },
   "outputs": [
    {
     "name": "stdout",
     "output_type": "stream",
     "text": [
      "Model results: tf.Tensor([[0.       2.568204]], shape=(1, 2), dtype=float32)\n"
     ]
    }
   ],
   "source": [
    "# Used in a module\n",
    "class MySequentialModule(tf.Module):\n",
    "  def __init__(self, name=None):\n",
    "    super().__init__(name=name)\n",
    "\n",
    "    self.dense_1 = FlexibleDenseModule(out_features=3)\n",
    "    self.dense_2 = FlexibleDenseModule(out_features=2)\n",
    "\n",
    "  def __call__(self, x):\n",
    "    x = self.dense_1(x)\n",
    "    return self.dense_2(x)\n",
    "\n",
    "my_model = MySequentialModule(name=\"the_model\")\n",
    "print(\"Model results:\", my_model(tf.constant([[2.0, 2.0, 2.0]])))\n"
   ]
  },
  {
   "cell_type": "markdown",
   "id": "instrumental-reputation",
   "metadata": {},
   "source": [
    "## 保存权重\n",
    "\n",
    "您可以将 tf.Module 保存为检查点和 SavedModel。<br><br>\n",
    "\n",
    "检查点即是权重（即模块及其子模块内部的变量集的值）。"
   ]
  },
  {
   "cell_type": "code",
   "execution_count": 56,
   "id": "indie-abraham",
   "metadata": {
    "ExecuteTime": {
     "end_time": "2021-04-09T12:34:01.727819Z",
     "start_time": "2021-04-09T12:34:01.212697Z"
    },
    "collapsed": true
   },
   "outputs": [
    {
     "data": {
      "text/plain": [
       "'checkpoint'"
      ]
     },
     "execution_count": 56,
     "metadata": {},
     "output_type": "execute_result"
    }
   ],
   "source": [
    "name='checkpoint'\n",
    "checkpoint=tf.train.Checkpoint(model=my_model)\n",
    "checkpoint.write(name)"
   ]
  },
  {
   "cell_type": "markdown",
   "id": "binary-payday",
   "metadata": {},
   "source": [
    "## 创建 SavedModel\n",
    "\n",
    "共享经过完全训练的模型的推荐方式是使用 SavedModel。<br><br>\n",
    "SavedModel 包含函数集合与权重集合。您可以保存刚刚创建的模型。<br><br>\n",
    "因此，利用 SavedModel，您可以使用 tf.Module 保存 TensorFlow 权重和计算图，随后再次加载它们。"
   ]
  },
  {
   "cell_type": "code",
   "execution_count": null,
   "id": "southern-savannah",
   "metadata": {},
   "outputs": [],
   "source": [
    "# 保存\n",
    "tf.saved_model.save(my_model, \"the_saved_model\")\n",
    "# 加载\n",
    "new_model = tf.saved_model.load(\"the_saved_model\")\n"
   ]
  },
  {
   "cell_type": "markdown",
   "id": "environmental-presence",
   "metadata": {},
   "source": [
    "## Keras 模型和层\n",
    "\n",
    "可以在 tf.Module 上构建自己的高级 API，而我们已经拥有这些 API。<br><br>\n"
   ]
  },
  {
   "cell_type": "markdown",
   "id": "compact-premiere",
   "metadata": {
    "ExecuteTime": {
     "end_time": "2021-04-09T12:40:53.419973Z",
     "start_time": "2021-04-09T12:40:53.412001Z"
    }
   },
   "source": [
    "### Keras 层\n",
    "tf.keras.layers.Layer 是所有 Keras 层的基类，它继承自 tf.Module。<br><br>\n",
    "\n",
    "您只需换出父项，然后将 __call__ 更改为 call 即可将模块转换为 Keras 层：<br><br>\n",
    "```\n",
    "class MyDense(tf.keras.layers.Layer):\n",
    "  # Adding **kwargs to support base Keras layer arguemnts\n",
    "  def __init__(self, in_features, out_features, **kwargs):\n",
    "    super().__init__(**kwargs)\n",
    "\n",
    "    # This will soon move to the build step; see below\n",
    "    self.w = tf.Variable(\n",
    "      tf.random.normal([in_features, out_features]), name='w')\n",
    "    self.b = tf.Variable(tf.zeros([out_features]), name='b')\n",
    "  def call(self, x):\n",
    "    y = tf.matmul(x, self.w) + self.b\n",
    "    return tf.nn.relu(y)\n",
    "\n",
    "simple_layer = MyDense(name=\"simple\", in_features=3, out_features=3)\n",
    "\n",
    "```"
   ]
  },
  {
   "cell_type": "markdown",
   "id": "optical-invitation",
   "metadata": {
    "ExecuteTime": {
     "end_time": "2021-04-09T12:43:24.285734Z",
     "start_time": "2021-04-09T12:43:24.281746Z"
    }
   },
   "source": [
    "### build 步骤\n",
    "在您确定输入形状之前，等待创建变量在许多情况下十分方便。<br><br>\n",
    "\n",
    "Keras 层具有额外的生命周期步骤，可让您在定义层时获得更高的灵活性。这是在 build() 函数中定义的。<br><br>\n",
    "\n",
    "build 仅被调用一次，而且是使用输入的形状调用的。它通常用于创建变量（权重）。<br><br>\n",
    "\n",
    "您可以根据输入的大小灵活地重写上面的 MyDense 层。<br><br>\n",
    "```\n",
    "class FlexibleDense(tf.keras.layers.Layer):\n",
    "  # Note the added `**kwargs`, as Keras supports many arguments\n",
    "  def __init__(self, out_features, **kwargs):\n",
    "    super().__init__(**kwargs)\n",
    "    self.out_features = out_features\n",
    "\n",
    "  def build(self, input_shape):  # Create the state of the layer (weights)\n",
    "    self.w = tf.Variable(\n",
    "      tf.random.normal([input_shape[-1], self.out_features]), name='w')\n",
    "    self.b = tf.Variable(tf.zeros([self.out_features]), name='b')\n",
    "\n",
    "  def call(self, inputs):  # Defines the computation from inputs to outputs\n",
    "    return tf.matmul(inputs, self.w) + self.b\n",
    "\n",
    "# Create the instance of the layer\n",
    "flexible_dense = FlexibleDense(out_features=3)\n",
    "\n",
    "```"
   ]
  }
 ],
 "metadata": {
  "kernelspec": {
   "display_name": "tensorflow",
   "language": "python",
   "name": "tensorflow"
  },
  "language_info": {
   "codemirror_mode": {
    "name": "ipython",
    "version": 3
   },
   "file_extension": ".py",
   "mimetype": "text/x-python",
   "name": "python",
   "nbconvert_exporter": "python",
   "pygments_lexer": "ipython3",
   "version": "3.8.3"
  },
  "toc": {
   "base_numbering": 1,
   "nav_menu": {},
   "number_sections": true,
   "sideBar": true,
   "skip_h1_title": false,
   "title_cell": "Table of Contents",
   "title_sidebar": "Contents",
   "toc_cell": false,
   "toc_position": {},
   "toc_section_display": true,
   "toc_window_display": false
  },
  "varInspector": {
   "cols": {
    "lenName": 16,
    "lenType": 16,
    "lenVar": 40
   },
   "kernels_config": {
    "python": {
     "delete_cmd_postfix": "",
     "delete_cmd_prefix": "del ",
     "library": "var_list.py",
     "varRefreshCmd": "print(var_dic_list())"
    },
    "r": {
     "delete_cmd_postfix": ") ",
     "delete_cmd_prefix": "rm(",
     "library": "var_list.r",
     "varRefreshCmd": "cat(var_dic_list()) "
    }
   },
   "types_to_exclude": [
    "module",
    "function",
    "builtin_function_or_method",
    "instance",
    "_Feature"
   ],
   "window_display": false
  }
 },
 "nbformat": 4,
 "nbformat_minor": 5
}
