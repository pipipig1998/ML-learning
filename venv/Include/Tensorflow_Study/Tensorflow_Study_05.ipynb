{
 "cells": [
  {
   "cell_type": "markdown",
   "id": "complicated-fellow",
   "metadata": {},
   "source": [
    "# 模块、层和模型简介\n",
    "\n",
    "要进行 TensorFlow 机器学习，可能需要定义、保存和恢复模型。<br>\n",
    "模型是：\n",
    "1. 一个在张量上进行某些计算的函数（前向传递）\n",
    "2. 一些可以更新以响应训练的变量\n"
   ]
  },
  {
   "cell_type": "code",
   "execution_count": 1,
   "id": "behind-humanitarian",
   "metadata": {
    "ExecuteTime": {
     "end_time": "2021-04-08T15:13:16.998218Z",
     "start_time": "2021-04-08T15:13:13.859585Z"
    }
   },
   "outputs": [],
   "source": [
    "import tensorflow as tf\n",
    "from datetime import datetime"
   ]
  },
  {
   "cell_type": "markdown",
   "id": "nasty-twist",
   "metadata": {},
   "source": [
    "## 在 TensorFlow 中定义模型和层\n",
    "\n",
    "大多数模型都由层组成。<br>\n",
    "层是具有已知数学结构的函数，可以重复使用并且具有可训练的变量。\n",
    "<br>在 TensorFlow 中，层和模型的大多数高级实现（例如 Keras 或 Sonnet）都在以下同一个基础类上构建：tf.Module。\n",
    "\n",
    "---"
   ]
  },
  {
   "cell_type": "code",
   "execution_count": 2,
   "id": "assisted-count",
   "metadata": {
    "ExecuteTime": {
     "end_time": "2021-04-08T15:21:45.682421Z",
     "start_time": "2021-04-08T15:21:43.579042Z"
    }
   },
   "outputs": [
    {
     "data": {
      "text/plain": [
       "<tf.Tensor: shape=(), dtype=float32, numpy=30.0>"
      ]
     },
     "execution_count": 2,
     "metadata": {},
     "output_type": "execute_result"
    }
   ],
   "source": [
    "# 定义自己的模型\n",
    "class SimpleMoudle(tf.Module):\n",
    "    def __init__(self,name=None):\n",
    "        super().__init__(name=name)\n",
    "        self.a_variable=tf.Variable(5.0,name=\"train_me\")\n",
    "        self.non_trainable_variable = tf.Variable(5.0, trainable=False, name=\"do_not_train_me\")\n",
    "    def __call__(self, x):\n",
    "        return self.a_variable * x + self.non_trainable_variable\n",
    "simpleMoudle=SimpleMoudle(name=\"simple\")\n",
    "simpleMoudle(tf.constant(5.0))\n"
   ]
  },
  {
   "cell_type": "markdown",
   "id": "corrected-protein",
   "metadata": {},
   "source": [
    "```__call__``` 并无特殊之处，只是其行为与 Python 可调用对象类似；您可以使用任何函数来调用模型。"
   ]
  }
 ],
 "metadata": {
  "kernelspec": {
   "display_name": "tensorflow",
   "language": "python",
   "name": "tensorflow"
  },
  "language_info": {
   "codemirror_mode": {
    "name": "ipython",
    "version": 3
   },
   "file_extension": ".py",
   "mimetype": "text/x-python",
   "name": "python",
   "nbconvert_exporter": "python",
   "pygments_lexer": "ipython3",
   "version": "3.8.3"
  },
  "toc": {
   "base_numbering": 1,
   "nav_menu": {},
   "number_sections": true,
   "sideBar": true,
   "skip_h1_title": false,
   "title_cell": "Table of Contents",
   "title_sidebar": "Contents",
   "toc_cell": false,
   "toc_position": {},
   "toc_section_display": true,
   "toc_window_display": false
  },
  "varInspector": {
   "cols": {
    "lenName": 16,
    "lenType": 16,
    "lenVar": 40
   },
   "kernels_config": {
    "python": {
     "delete_cmd_postfix": "",
     "delete_cmd_prefix": "del ",
     "library": "var_list.py",
     "varRefreshCmd": "print(var_dic_list())"
    },
    "r": {
     "delete_cmd_postfix": ") ",
     "delete_cmd_prefix": "rm(",
     "library": "var_list.r",
     "varRefreshCmd": "cat(var_dic_list()) "
    }
   },
   "types_to_exclude": [
    "module",
    "function",
    "builtin_function_or_method",
    "instance",
    "_Feature"
   ],
   "window_display": false
  }
 },
 "nbformat": 4,
 "nbformat_minor": 5
}
