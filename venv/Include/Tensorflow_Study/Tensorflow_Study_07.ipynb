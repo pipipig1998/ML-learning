{
 "cells": [
  {
   "cell_type": "markdown",
   "id": "foreign-waterproof",
   "metadata": {},
   "source": [
    "# 高级自动微分\n",
    "重点介绍 tf.GradientTape API 更深入、更不常见的功能。"
   ]
  },
  {
   "cell_type": "code",
   "execution_count": 1,
   "id": "polar-focus",
   "metadata": {
    "ExecuteTime": {
     "end_time": "2021-04-09T13:45:01.912390Z",
     "start_time": "2021-04-09T13:44:58.350890Z"
    }
   },
   "outputs": [],
   "source": [
    "import tensorflow as tf\n",
    "\n",
    "import matplotlib as mpl\n",
    "import matplotlib.pyplot as plt\n",
    "\n",
    "mpl.rcParams['figure.figsize'] = (8, 6)\n"
   ]
  },
  {
   "cell_type": "markdown",
   "id": "conscious-remove",
   "metadata": {
    "ExecuteTime": {
     "end_time": "2021-04-09T13:45:53.711947Z",
     "start_time": "2021-04-09T13:45:53.706980Z"
    }
   },
   "source": [
    "## 控制梯度记录\n",
    "在自动微分指南中，您已了解构建梯度计算时如何控制条带监视变量和张量。<br><br>\n",
    "\n",
    "条带还具有操作记录的方法。<br><br>\n",
    "\n",
    "如果您希望停止记录梯度，可以使用 GradientTape.stop_recording() 暂时挂起记录。<br><br>\n",
    "\n",
    "---"
   ]
  },
  {
   "cell_type": "code",
   "execution_count": 4,
   "id": "retired-electricity",
   "metadata": {
    "ExecuteTime": {
     "end_time": "2021-04-09T13:48:52.730253Z",
     "start_time": "2021-04-09T13:48:52.718286Z"
    },
    "collapsed": true
   },
   "outputs": [
    {
     "name": "stdout",
     "output_type": "stream",
     "text": [
      "dz_dx: 4.0\n",
      "dz_dy: None\n"
     ]
    }
   ],
   "source": [
    "x=tf.Variable(2.0)\n",
    "y=tf.Variable(3.0)\n",
    "with tf.GradientTape() as t:\n",
    "    x_sq=x*x\n",
    "    with t.stop_recording() :\n",
    "        y_sq=y*y\n",
    "    z=x_sq+y_sq\n",
    "grad = t.gradient(z,{'x':x,'y':y})\n",
    "print('dz_dx:',grad['x'].numpy())\n",
    "print('dz_dy:',grad['y'])"
   ]
  },
  {
   "cell_type": "markdown",
   "id": "confused-archives",
   "metadata": {},
   "source": [
    "如果您希望完全重新开始，请使用 reset()。通常，直接退出梯度带块并重新开始比较易于读取，但在退出梯度带块有困难或不可行时，可以使用 reset。"
   ]
  },
  {
   "cell_type": "code",
   "execution_count": 5,
   "id": "theoretical-holmes",
   "metadata": {
    "ExecuteTime": {
     "end_time": "2021-04-09T13:50:15.085148Z",
     "start_time": "2021-04-09T13:50:14.691812Z"
    },
    "collapsed": true
   },
   "outputs": [
    {
     "name": "stdout",
     "output_type": "stream",
     "text": [
      "dz/dx: tf.Tensor(4.0, shape=(), dtype=float32)\n",
      "dz/dy: None\n"
     ]
    }
   ],
   "source": [
    "x = tf.Variable(2.0)\n",
    "y = tf.Variable(3.0)\n",
    "reset = True\n",
    "\n",
    "with tf.GradientTape() as t:\n",
    "  y_sq = y * y\n",
    "  if reset:\n",
    "    # Throw out all the tape recorded so far\n",
    "    t.reset()\n",
    "  z = x * x + y_sq\n",
    "\n",
    "grad = t.gradient(z, {'x': x, 'y': y})\n",
    "\n",
    "print('dz/dx:', grad['x'])  # 2*x => 4\n",
    "print('dz/dy:', grad['y'])\n"
   ]
  },
  {
   "cell_type": "markdown",
   "id": "plain-startup",
   "metadata": {
    "ExecuteTime": {
     "end_time": "2021-04-09T13:50:32.922384Z",
     "start_time": "2021-04-09T13:50:32.917397Z"
    }
   },
   "source": [
    "## 停止梯度\n",
    "与上面的全局条带控制相比，tf.stop_gradient 函数更加精确。\n",
    "<br><br>\n",
    "它可以用来**阻止梯度沿着特定路径流动，而不需要访问条带本身**"
   ]
  },
  {
   "cell_type": "code",
   "execution_count": 7,
   "id": "breeding-surname",
   "metadata": {
    "ExecuteTime": {
     "end_time": "2021-04-09T13:51:37.765156Z",
     "start_time": "2021-04-09T13:51:37.333270Z"
    },
    "collapsed": true
   },
   "outputs": [
    {
     "name": "stdout",
     "output_type": "stream",
     "text": [
      "dz/dx: tf.Tensor(4.0, shape=(), dtype=float32)\n",
      "dz/dy: None\n"
     ]
    }
   ],
   "source": [
    "x = tf.Variable(2.0)\n",
    "y = tf.Variable(3.0)\n",
    "\n",
    "with tf.GradientTape() as t:\n",
    "  y_sq = y**2\n",
    "  z = x**2 + tf.stop_gradient(y_sq)\n",
    "\n",
    "grad = t.gradient(z, {'x': x, 'y': y})\n",
    "\n",
    "print('dz/dx:', grad['x'])  # 2*x => 4\n",
    "print('dz/dy:', grad['y'])\n"
   ]
  },
  {
   "cell_type": "markdown",
   "id": "reasonable-animal",
   "metadata": {},
   "source": [
    "## 自定义梯度\n",
    "\n",
    "    1. 正在编写的新运算没有定义的梯度。\n",
    "    2. 默认计算在数值上不稳定。\n",
    "    3. 您希望从前向传递缓存开销大的计算。\n",
    "    4. 您想修改一个值（例如使用：tf.clip_by_value、tf.math.round）而不修改梯度。\n",
    "    \n",
    "    对于编写新运算，您可以使用 tf.RegisterGradient 自行设置。请参阅其页面了解详细信息。（注意，梯度注册为全局，需谨慎更改。）<br><br>\n",
    "    对于后三种情况，可以使用 tf.custom_gradient。\n"
   ]
  }
 ],
 "metadata": {
  "kernelspec": {
   "display_name": "tensorflow",
   "language": "python",
   "name": "tensorflow"
  },
  "language_info": {
   "codemirror_mode": {
    "name": "ipython",
    "version": 3
   },
   "file_extension": ".py",
   "mimetype": "text/x-python",
   "name": "python",
   "nbconvert_exporter": "python",
   "pygments_lexer": "ipython3",
   "version": "3.8.3"
  },
  "toc": {
   "base_numbering": 1,
   "nav_menu": {},
   "number_sections": true,
   "sideBar": true,
   "skip_h1_title": false,
   "title_cell": "Table of Contents",
   "title_sidebar": "Contents",
   "toc_cell": false,
   "toc_position": {},
   "toc_section_display": true,
   "toc_window_display": false
  },
  "varInspector": {
   "cols": {
    "lenName": 16,
    "lenType": 16,
    "lenVar": 40
   },
   "kernels_config": {
    "python": {
     "delete_cmd_postfix": "",
     "delete_cmd_prefix": "del ",
     "library": "var_list.py",
     "varRefreshCmd": "print(var_dic_list())"
    },
    "r": {
     "delete_cmd_postfix": ") ",
     "delete_cmd_prefix": "rm(",
     "library": "var_list.r",
     "varRefreshCmd": "cat(var_dic_list()) "
    }
   },
   "types_to_exclude": [
    "module",
    "function",
    "builtin_function_or_method",
    "instance",
    "_Feature"
   ],
   "window_display": false
  }
 },
 "nbformat": 4,
 "nbformat_minor": 5
}
