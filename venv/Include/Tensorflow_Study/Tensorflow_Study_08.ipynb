{
 "cells": [
  {
   "cell_type": "markdown",
   "id": "vocal-trace",
   "metadata": {
    "ExecuteTime": {
     "end_time": "2021-04-09T15:15:37.688929Z",
     "start_time": "2021-04-09T15:15:37.683949Z"
    }
   },
   "source": [
    "# 不规则张量\n",
    "不规则张量是嵌套的可变长度列表的 TensorFlow 等效项。它们使存储和处理包含非均匀形状的数据变得容易\n",
    "1. 可变长度特征，例如电影的演员名单。\n",
    "2. 成批的可变长度顺序输入，例如句子或视频剪辑。\n",
    "3. 分层输入，例如细分为节、段落、句子和单词的文本文档。\n",
    "4. 结构化输入中的各个字段，例如协议缓冲区。\n",
    "有一百多种 TensorFlow 运算支持不规则张量,包括:<br><br>**数学运算**（如 tf.add 和 tf.reduce_mean）、<br><br>**数组运算**（如 tf.concat 和 tf.tile）、<br><br>**字符串操作运算**（如 tf.substr）、<br><br>**控制流运算**（如 tf.while_loop 和 tf.map_fn）等："
   ]
  },
  {
   "cell_type": "code",
   "execution_count": null,
   "id": "chicken-argentina",
   "metadata": {},
   "outputs": [],
   "source": []
  }
 ],
 "metadata": {
  "kernelspec": {
   "display_name": "tensorflow",
   "language": "python",
   "name": "tensorflow"
  },
  "language_info": {
   "codemirror_mode": {
    "name": "ipython",
    "version": 3
   },
   "file_extension": ".py",
   "mimetype": "text/x-python",
   "name": "python",
   "nbconvert_exporter": "python",
   "pygments_lexer": "ipython3",
   "version": "3.8.3"
  },
  "toc": {
   "base_numbering": 1,
   "nav_menu": {},
   "number_sections": true,
   "sideBar": true,
   "skip_h1_title": false,
   "title_cell": "Table of Contents",
   "title_sidebar": "Contents",
   "toc_cell": false,
   "toc_position": {},
   "toc_section_display": true,
   "toc_window_display": false
  },
  "varInspector": {
   "cols": {
    "lenName": 16,
    "lenType": 16,
    "lenVar": 40
   },
   "kernels_config": {
    "python": {
     "delete_cmd_postfix": "",
     "delete_cmd_prefix": "del ",
     "library": "var_list.py",
     "varRefreshCmd": "print(var_dic_list())"
    },
    "r": {
     "delete_cmd_postfix": ") ",
     "delete_cmd_prefix": "rm(",
     "library": "var_list.r",
     "varRefreshCmd": "cat(var_dic_list()) "
    }
   },
   "types_to_exclude": [
    "module",
    "function",
    "builtin_function_or_method",
    "instance",
    "_Feature"
   ],
   "window_display": false
  }
 },
 "nbformat": 4,
 "nbformat_minor": 5
}
