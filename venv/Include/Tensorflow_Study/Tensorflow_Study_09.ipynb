{
 "cells": [
  {
   "cell_type": "code",
   "execution_count": 1,
   "id": "considerable-prefix",
   "metadata": {
    "ExecuteTime": {
     "end_time": "2021-04-13T01:58:38.436831Z",
     "start_time": "2021-04-13T01:58:33.577522Z"
    }
   },
   "outputs": [],
   "source": [
    "import tensorflow as tf\n",
    "import matplotlib.pyplot as plt"
   ]
  },
  {
   "cell_type": "markdown",
   "id": "cathedral-chicken",
   "metadata": {},
   "source": [
    "# 稀疏张量\n",
    "\n",
    "稀疏张量主要用于高效存储多个0的情况<br>\n",
    "- values: A 1D tensor with shape [N] 包含几个不为0的数.\n",
    "- indices: A 2D tensor with shape [N, rank], 不为0数的下标.\n",
    "- dense_shape: A 1D tensor with shape [shape], 矩阵的形状.\n"
   ]
  },
  {
   "cell_type": "code",
   "execution_count": 2,
   "id": "abroad-rapid",
   "metadata": {
    "ExecuteTime": {
     "end_time": "2021-04-13T02:15:18.956891Z",
     "start_time": "2021-04-13T02:15:17.434089Z"
    }
   },
   "outputs": [],
   "source": [
    "st1=tf.SparseTensor(\n",
    "    indices=[[0,3],[2,4]],\n",
    "    values=[10,20],\n",
    "    dense_shape=[3,10]\n",
    ")"
   ]
  },
  {
   "cell_type": "markdown",
   "id": "rental-integer",
   "metadata": {},
   "source": [
    "所形成的稀疏张量如下：\n",
    "![稀疏张量](https://tensorflow.google.cn/guide/images/sparse_tensor.png)"
   ]
  },
  {
   "cell_type": "code",
   "execution_count": 13,
   "id": "fiscal-genesis",
   "metadata": {
    "ExecuteTime": {
     "end_time": "2021-04-13T02:39:43.669341Z",
     "start_time": "2021-04-13T02:39:43.276354Z"
    }
   },
   "outputs": [
    {
     "name": "stdout",
     "output_type": "stream",
     "text": [
      "SparseTensor(indices=tf.Tensor(\n",
      "[[0 3]\n",
      " [2 4]], shape=(2, 2), dtype=int64), values=tf.Tensor([10 20], shape=(2,), dtype=int32), dense_shape=tf.Tensor([ 3 10], shape=(2,), dtype=int64))\n"
     ]
    },
    {
     "data": {
      "text/plain": [
       "'<SparseTensor shape=[3, 10] \\n values={\\n  [0, 3]: 10\\n  [2, 4]: 20}>'"
      ]
     },
     "execution_count": 13,
     "metadata": {},
     "output_type": "execute_result"
    }
   ],
   "source": [
    "print(st1)\n",
    "\n",
    "def pprint_tensor(st):\n",
    "    s = \"<SparseTensor shape=%s \\n values={\" % (st.dense_shape.numpy().tolist(),)\n",
    "    for (index,value) in zip(st.indices,st.values):\n",
    "        s += f\"\\n  %s: %s\" % (index.numpy().tolist(), value.numpy().tolist())\n",
    "    return s+\"}>\"\n",
    "pprint_tensor(st1)"
   ]
  },
  {
   "cell_type": "markdown",
   "id": "remarkable-circus",
   "metadata": {},
   "source": [
    "也可以同时用稀疏矩阵的直接矩阵表达形式来进行构造\n"
   ]
  },
  {
   "cell_type": "code",
   "execution_count": 8,
   "id": "banner-japan",
   "metadata": {
    "ExecuteTime": {
     "end_time": "2021-04-13T02:31:04.641697Z",
     "start_time": "2021-04-13T02:31:04.052598Z"
    },
    "scrolled": true
   },
   "outputs": [
    {
     "name": "stdout",
     "output_type": "stream",
     "text": [
      "<SparseTensor shape=[3, 4] \n",
      " values={\n",
      "  [0, 0]: 1\n",
      "  [0, 3]: 8\n",
      "  [2, 2]: 3}>\n"
     ]
    }
   ],
   "source": [
    "st2=tf.sparse.from_dense([[1, 0, 0, 8], [0, 0, 0, 0], [0, 0, 3, 0]])\n",
    "print(pprint_tensor(st2))"
   ]
  },
  {
   "cell_type": "code",
   "execution_count": 19,
   "id": "annoying-spokesman",
   "metadata": {
    "ExecuteTime": {
     "end_time": "2021-04-13T02:48:34.991135Z",
     "start_time": "2021-04-13T02:48:34.590831Z"
    },
    "collapsed": true
   },
   "outputs": [
    {
     "name": "stdout",
     "output_type": "stream",
     "text": [
      "<SparseTensor shape=[4, 10] \n",
      " values={\n",
      "  [0, 2]: 87\n",
      "  [3, 4]: 2\n",
      "  [7, 0]: 38}>\n",
      "SparseTensor(indices=tf.Tensor(\n",
      "[[0 1]\n",
      " [1 0]\n",
      " [1 1]], shape=(3, 2), dtype=int64), values=tf.Tensor([13 15 17], shape=(3,), dtype=int32), dense_shape=tf.Tensor([2 2], shape=(2,), dtype=int64)) tf.Tensor(\n",
      "[[4]\n",
      " [6]], shape=(2, 1), dtype=int32) tf.Tensor(\n",
      "[[ 78]\n",
      " [162]], shape=(2, 1), dtype=int32)\n",
      "tf.Tensor(\n",
      "[[0 0 0 0 0 0 0 1 0 0 0 0 0 0 0 0 0]\n",
      " [0 0 0 0 0 0 1 0 1 0 0 0 0 0 0 0 0]\n",
      " [0 0 0 0 1 1 0 0 0 1 1 0 0 0 0 0 0]\n",
      " [0 0 0 1 1 0 0 0 0 0 1 1 0 0 0 0 0]\n",
      " [0 0 0 1 1 0 0 0 0 0 1 1 0 0 0 0 0]\n",
      " [0 0 0 0 1 1 0 0 0 1 1 0 0 0 0 0 0]\n",
      " [0 0 0 0 0 0 1 0 1 0 0 0 0 0 0 0 0]\n",
      " [0 0 0 0 0 0 0 1 0 0 0 0 0 0 0 0 0]], shape=(8, 17), dtype=int32)\n",
      "tf.Tensor(\n",
      "[[ 6  0  0 13]\n",
      " [ 0  0  0  0]\n",
      " [ 0  0  8  0]], shape=(3, 4), dtype=int32)\n"
     ]
    }
   ],
   "source": [
    "st_a = tf.SparseTensor(indices=[[0, 2], [3, 4]],\n",
    "                       values=[31, 2], \n",
    "                       dense_shape=[4, 10])\n",
    "\n",
    "st_b = tf.SparseTensor(indices=[[0, 2], [7, 0]],\n",
    "                       values=[56, 38],\n",
    "                       dense_shape=[4, 10])\n",
    "\n",
    "# 稀疏矩阵加法\n",
    "st_sum = tf.sparse.add(st_a, st_b)\n",
    "\n",
    "print(pprint_tensor(st_sum))\n",
    "# 稀疏矩阵乘法\n",
    "st_c = tf.SparseTensor(indices=([0, 1], [1, 0], [1, 1]),\n",
    "                       values=[13, 15, 17],\n",
    "                       dense_shape=(2,2))\n",
    "mb = tf.constant([[4], [6]])\n",
    "product = tf.sparse.sparse_dense_matmul(st_c, mb)\n",
    "print(st_c,mb,product)\n",
    "# 稀疏矩阵连接\n",
    "sparse_pattern_A = tf.SparseTensor(indices = [[2,4], [3,3], [3,4], [4,3], [4,4], [5,4]],\n",
    "                         values = [1,1,1,1,1,1],\n",
    "                         dense_shape = [8,5])\n",
    "sparse_pattern_B = tf.SparseTensor(indices = [[0,2], [1,1], [1,3], [2,0], [2,4], [2,5], [3,5], \n",
    "                                              [4,5], [5,0], [5,4], [5,5], [6,1], [6,3], [7,2]],\n",
    "                         values = [1,1,1,1,1,1,1,1,1,1,1,1,1,1],\n",
    "                         dense_shape = [8,6])\n",
    "sparse_pattern_C = tf.SparseTensor(indices = [[3,0], [4,0]],\n",
    "                         values = [1,1],\n",
    "                         dense_shape = [8,6])\n",
    "\n",
    "sparse_patterns_list = [sparse_pattern_A, sparse_pattern_B, sparse_pattern_C]\n",
    "sparse_pattern = tf.sparse.concat(axis=1, sp_inputs=sparse_patterns_list)\n",
    "print(tf.sparse.to_dense(sparse_pattern))\n",
    "# 稀疏矩阵元素加法\n",
    "st2_plus_5 = tf.SparseTensor(\n",
    "    st2.indices,\n",
    "    st2.values + 5,\n",
    "    st2.dense_shape)\n",
    "print(tf.sparse.to_dense(st2_plus_5))\n"
   ]
  },
  {
   "cell_type": "markdown",
   "id": "needed-emergency",
   "metadata": {},
   "source": [
    "# 和keras进行联用\n",
    "\n",
    "仅需要在输入层设置`sparse=True`即可<br>\n",
    "下面以神经网络为例子\n"
   ]
  },
  {
   "cell_type": "code",
   "execution_count": 23,
   "id": "revised-checklist",
   "metadata": {
    "ExecuteTime": {
     "end_time": "2021-04-13T02:54:53.765703Z",
     "start_time": "2021-04-13T02:54:53.688904Z"
    },
    "collapsed": true
   },
   "outputs": [
    {
     "data": {
      "text/plain": [
       "array([[ 0.47235915,  0.9101693 ,  0.37997937,  0.62414026],\n",
       "       [ 0.        ,  0.        ,  0.        ,  0.        ],\n",
       "       [ 0.        ,  0.        ,  0.        ,  0.        ],\n",
       "       [ 0.        ,  0.        ,  0.        ,  0.        ],\n",
       "       [-0.5417007 , -0.6604419 ,  0.23671693,  0.24461526],\n",
       "       [ 0.4109371 ,  1.1005002 ,  0.26989496, -0.15205604]],\n",
       "      dtype=float32)"
      ]
     },
     "execution_count": 23,
     "metadata": {},
     "output_type": "execute_result"
    }
   ],
   "source": [
    "x=tf.keras.Input(shape=(4,),sparse=True)\n",
    "y=tf.keras.layers.Dense(4)(x)\n",
    "model=tf.keras.Model(x,y)\n",
    "sparse_data=tf.SparseTensor(\n",
    "    indices= [(0,0),(0,1),(0,2),\n",
    "               (4,3),(5,0),(5,1)],\n",
    "    values=[1,1,1,1,1,1],\n",
    "    dense_shape=(6,4)\n",
    ")\n",
    "model(sparse_data)\n",
    "model.predict(sparse_data)"
   ]
  }
 ],
 "metadata": {
  "kernelspec": {
   "display_name": "tensorflow",
   "language": "python",
   "name": "tensorflow"
  },
  "language_info": {
   "codemirror_mode": {
    "name": "ipython",
    "version": 3
   },
   "file_extension": ".py",
   "mimetype": "text/x-python",
   "name": "python",
   "nbconvert_exporter": "python",
   "pygments_lexer": "ipython3",
   "version": "3.8.3"
  },
  "toc": {
   "base_numbering": 1,
   "nav_menu": {},
   "number_sections": true,
   "sideBar": true,
   "skip_h1_title": false,
   "title_cell": "Table of Contents",
   "title_sidebar": "Contents",
   "toc_cell": false,
   "toc_position": {},
   "toc_section_display": true,
   "toc_window_display": false
  },
  "varInspector": {
   "cols": {
    "lenName": 16,
    "lenType": 16,
    "lenVar": 40
   },
   "kernels_config": {
    "python": {
     "delete_cmd_postfix": "",
     "delete_cmd_prefix": "del ",
     "library": "var_list.py",
     "varRefreshCmd": "print(var_dic_list())"
    },
    "r": {
     "delete_cmd_postfix": ") ",
     "delete_cmd_prefix": "rm(",
     "library": "var_list.r",
     "varRefreshCmd": "cat(var_dic_list()) "
    }
   },
   "types_to_exclude": [
    "module",
    "function",
    "builtin_function_or_method",
    "instance",
    "_Feature"
   ],
   "window_display": false
  }
 },
 "nbformat": 4,
 "nbformat_minor": 5
}
