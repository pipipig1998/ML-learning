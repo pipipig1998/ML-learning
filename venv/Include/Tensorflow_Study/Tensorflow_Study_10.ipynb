{
 "cells": [
  {
   "cell_type": "code",
   "execution_count": 3,
   "id": "immediate-psychology",
   "metadata": {
    "ExecuteTime": {
     "end_time": "2021-04-13T02:59:45.036062Z",
     "start_time": "2021-04-13T02:59:45.030053Z"
    }
   },
   "outputs": [
    {
     "name": "stdout",
     "output_type": "stream",
     "text": [
      "Using TensorFlow version 2.4.1\n"
     ]
    }
   ],
   "source": [
    "import tensorflow as tf\n",
    "import tensorflow.experimental.numpy as tnp\n",
    "import numpy as np\n",
    "import timeit\n",
    "import matplotlib.pyplot as plt\n",
    "print(\"Using TensorFlow version %s\" % tf.__version__)\n"
   ]
  },
  {
   "cell_type": "markdown",
   "id": "sapphire-agency",
   "metadata": {},
   "source": [
    "# Tensorflow的numpy数据包\n"
   ]
  },
  {
   "cell_type": "code",
   "execution_count": 8,
   "id": "imported-fluid",
   "metadata": {
    "ExecuteTime": {
     "end_time": "2021-04-13T03:01:08.908533Z",
     "start_time": "2021-04-13T03:01:08.866617Z"
    },
    "collapsed": true
   },
   "outputs": [
    {
     "name": "stdout",
     "output_type": "stream",
     "text": [
      "Created ND array with shape = (5, 3), rank = 2, dtype = float32 \n",
      "Is `ones` an instance of tf.Tensor: False\n",
      "\n",
      "<class 'tensorflow.python.ops.numpy_ops.np_arrays.ndarray'>\n",
      "ndarray.T has shape (3, 5)\n",
      "narray.reshape(-1) has shape 15\n"
     ]
    }
   ],
   "source": [
    "# Create an ND array and check out different attributes.\n",
    "ones = tnp.ones([5, 3], dtype=tnp.float32)\n",
    "print(\"Created ND array with shape = %s, rank = %s, \"\n",
    "      \"dtype = %s \" % (\n",
    "          ones.shape, ones.ndim, ones.dtype))\n",
    "\n",
    "# `ndarray` is just an alias to `tf.Tensor`.\n",
    "print(\"Is `ones` an instance of tf.Tensor: %s\\n\" % isinstance(ones, tf.Tensor))\n",
    "print(type(ones))\n",
    "print(\"ndarray.T has shape %s\" % str(ones.T.shape))\n",
    "print(\"narray.reshape(-1) has shape %s\" % ones.reshape(-1).shape)\n"
   ]
  },
  {
   "cell_type": "markdown",
   "id": "noted-baseball",
   "metadata": {},
   "source": [
    "抱歉，我实在不想看了，换个主题学。"
   ]
  }
 ],
 "metadata": {
  "kernelspec": {
   "display_name": "tensorflow",
   "language": "python",
   "name": "tensorflow"
  },
  "language_info": {
   "codemirror_mode": {
    "name": "ipython",
    "version": 3
   },
   "file_extension": ".py",
   "mimetype": "text/x-python",
   "name": "python",
   "nbconvert_exporter": "python",
   "pygments_lexer": "ipython3",
   "version": "3.8.3"
  },
  "toc": {
   "base_numbering": 1,
   "nav_menu": {},
   "number_sections": true,
   "sideBar": true,
   "skip_h1_title": false,
   "title_cell": "Table of Contents",
   "title_sidebar": "Contents",
   "toc_cell": false,
   "toc_position": {},
   "toc_section_display": true,
   "toc_window_display": false
  },
  "varInspector": {
   "cols": {
    "lenName": 16,
    "lenType": 16,
    "lenVar": 40
   },
   "kernels_config": {
    "python": {
     "delete_cmd_postfix": "",
     "delete_cmd_prefix": "del ",
     "library": "var_list.py",
     "varRefreshCmd": "print(var_dic_list())"
    },
    "r": {
     "delete_cmd_postfix": ") ",
     "delete_cmd_prefix": "rm(",
     "library": "var_list.r",
     "varRefreshCmd": "cat(var_dic_list()) "
    }
   },
   "types_to_exclude": [
    "module",
    "function",
    "builtin_function_or_method",
    "instance",
    "_Feature"
   ],
   "window_display": false
  }
 },
 "nbformat": 4,
 "nbformat_minor": 5
}
