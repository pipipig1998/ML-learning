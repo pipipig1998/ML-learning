{
 "cells": [
  {
   "cell_type": "code",
   "execution_count": 1,
   "id": "pleased-preservation",
   "metadata": {
    "ExecuteTime": {
     "end_time": "2021-04-13T03:05:26.040610Z",
     "start_time": "2021-04-13T03:05:23.073494Z"
    }
   },
   "outputs": [],
   "source": [
    "import tensorflow as tf\n",
    "import numpy as np"
   ]
  },
  {
   "cell_type": "markdown",
   "id": "raising-corpus",
   "metadata": {},
   "source": [
    "# Tensorflow 切片操作"
   ]
  },
  {
   "cell_type": "code",
   "execution_count": 2,
   "id": "continued-mitchell",
   "metadata": {
    "ExecuteTime": {
     "end_time": "2021-04-13T03:05:48.688231Z",
     "start_time": "2021-04-13T03:05:46.827869Z"
    }
   },
   "outputs": [
    {
     "name": "stdout",
     "output_type": "stream",
     "text": [
      "tf.Tensor([1 2 3], shape=(3,), dtype=int32)\n"
     ]
    }
   ],
   "source": [
    "t1 = tf.constant([0, 1, 2, 3, 4, 5, 6, 7])\n",
    "\n",
    "print(tf.slice(t1,\n",
    "               begin=[1],\n",
    "               size=[3]))\n"
   ]
  },
  {
   "attachments": {},
   "cell_type": "markdown",
   "id": "instrumental-monroe",
   "metadata": {},
   "source": [
    "![切片](https://tensorflow.google.cn/guide/images/tf_slicing/slice_1d_1.png)"
   ]
  },
  {
   "cell_type": "code",
   "execution_count": 3,
   "id": "widespread-gender",
   "metadata": {
    "ExecuteTime": {
     "end_time": "2021-04-13T03:23:00.384203Z",
     "start_time": "2021-04-13T03:23:00.012259Z"
    },
    "scrolled": true
   },
   "outputs": [
    {
     "name": "stdout",
     "output_type": "stream",
     "text": [
      "tf.Tensor([5 6 7], shape=(3,), dtype=int32)\n"
     ]
    }
   ],
   "source": [
    "print(t1[-3:])\n"
   ]
  },
  {
   "cell_type": "markdown",
   "id": "unlike-voltage",
   "metadata": {
    "ExecuteTime": {
     "end_time": "2021-04-13T03:23:16.508995Z",
     "start_time": "2021-04-13T03:23:16.441177Z"
    }
   },
   "source": [
    "![image](https://tensorflow.google.cn/guide/images/tf_slicing/slice_1d_2.png)"
   ]
  },
  {
   "cell_type": "code",
   "execution_count": 5,
   "id": "successful-wilson",
   "metadata": {
    "ExecuteTime": {
     "end_time": "2021-04-13T03:23:46.497679Z",
     "start_time": "2021-04-13T03:23:46.124169Z"
    }
   },
   "outputs": [
    {
     "name": "stdout",
     "output_type": "stream",
     "text": [
      "tf.Tensor(\n",
      "[[ 1  2]\n",
      " [ 6  7]\n",
      " [11 12]], shape=(3, 2), dtype=int32)\n"
     ]
    }
   ],
   "source": [
    "t2 = tf.constant([[0, 1, 2, 3, 4],\n",
    "                  [5, 6, 7, 8, 9],\n",
    "                  [10, 11, 12, 13, 14],\n",
    "                  [15, 16, 17, 18, 19]])\n",
    "\n",
    "print(t2[:-1, 1:3])\n"
   ]
  },
  {
   "cell_type": "markdown",
   "id": "jewish-standing",
   "metadata": {
    "ExecuteTime": {
     "end_time": "2021-04-13T03:24:02.515973Z",
     "start_time": "2021-04-13T03:24:02.482055Z"
    }
   },
   "source": [
    "![image](https://tensorflow.google.cn/guide/images/tf_slicing/slice_2d_1.png)"
   ]
  },
  {
   "cell_type": "code",
   "execution_count": 7,
   "id": "spatial-terrorism",
   "metadata": {
    "ExecuteTime": {
     "end_time": "2021-04-13T03:32:07.722049Z",
     "start_time": "2021-04-13T03:32:07.262116Z"
    }
   },
   "outputs": [
    {
     "name": "stdout",
     "output_type": "stream",
     "text": [
      "tf.Tensor([0 3 6], shape=(3,), dtype=int32)\n"
     ]
    },
    {
     "data": {
      "text/plain": [
       "<tf.Tensor: shape=(3,), dtype=int32, numpy=array([0, 3, 6])>"
      ]
     },
     "execution_count": 7,
     "metadata": {},
     "output_type": "execute_result"
    }
   ],
   "source": [
    "print(tf.gather(t1,\n",
    "                indices=[0, 3, 6]))\n",
    "\n",
    "# This is similar to doing\n",
    "\n",
    "t1[::3]\n"
   ]
  },
  {
   "cell_type": "markdown",
   "id": "expressed-pocket",
   "metadata": {
    "ExecuteTime": {
     "end_time": "2021-04-13T03:32:22.081260Z",
     "start_time": "2021-04-13T03:32:22.047331Z"
    }
   },
   "source": [
    "![image](https://tensorflow.google.cn/guide/images/tf_slicing/slice_1d_3.png)`"
   ]
  },
  {
   "cell_type": "code",
   "execution_count": null,
   "id": "activated-imagination",
   "metadata": {},
   "outputs": [],
   "source": [
    "t4 = tf.constant([[0, 5],\n",
    "                  [1, 6],\n",
    "                  [2, 7],\n",
    "                  [3, 8],\n",
    "                  [4, 9]])\n",
    "\n",
    "print(tf.gather_nd(t4,\n",
    "                   indices=[[2], [3], [0]]))\n"
   ]
  },
  {
   "cell_type": "markdown",
   "id": "norman-biology",
   "metadata": {
    "ExecuteTime": {
     "end_time": "2021-04-13T03:33:45.810260Z",
     "start_time": "2021-04-13T03:33:45.778372Z"
    }
   },
   "source": [
    "![image](https://tensorflow.google.cn/guide/images/tf_slicing/gather_2.png)"
   ]
  }
 ],
 "metadata": {
  "kernelspec": {
   "display_name": "tensorflow",
   "language": "python",
   "name": "tensorflow"
  },
  "language_info": {
   "codemirror_mode": {
    "name": "ipython",
    "version": 3
   },
   "file_extension": ".py",
   "mimetype": "text/x-python",
   "name": "python",
   "nbconvert_exporter": "python",
   "pygments_lexer": "ipython3",
   "version": "3.8.3"
  },
  "toc": {
   "base_numbering": 1,
   "nav_menu": {},
   "number_sections": true,
   "sideBar": true,
   "skip_h1_title": false,
   "title_cell": "Table of Contents",
   "title_sidebar": "Contents",
   "toc_cell": false,
   "toc_position": {},
   "toc_section_display": true,
   "toc_window_display": false
  },
  "varInspector": {
   "cols": {
    "lenName": 16,
    "lenType": 16,
    "lenVar": 40
   },
   "kernels_config": {
    "python": {
     "delete_cmd_postfix": "",
     "delete_cmd_prefix": "del ",
     "library": "var_list.py",
     "varRefreshCmd": "print(var_dic_list())"
    },
    "r": {
     "delete_cmd_postfix": ") ",
     "delete_cmd_prefix": "rm(",
     "library": "var_list.r",
     "varRefreshCmd": "cat(var_dic_list()) "
    }
   },
   "types_to_exclude": [
    "module",
    "function",
    "builtin_function_or_method",
    "instance",
    "_Feature"
   ],
   "window_display": false
  }
 },
 "nbformat": 4,
 "nbformat_minor": 5
}
