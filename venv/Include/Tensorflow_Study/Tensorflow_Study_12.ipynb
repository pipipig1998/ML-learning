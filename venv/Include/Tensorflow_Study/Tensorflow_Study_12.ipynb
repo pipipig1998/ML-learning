{
 "cells": [
  {
   "cell_type": "markdown",
   "id": "assumed-johnson",
   "metadata": {},
   "source": [
    "# Keras  Sequential model\n",
    "Sequential model是一个序列模型，用来堆叠全连接层，仅有一个输入层和一个输出层<br>\n"
   ]
  },
  {
   "cell_type": "code",
   "execution_count": 2,
   "id": "agricultural-detector",
   "metadata": {
    "ExecuteTime": {
     "end_time": "2021-04-13T11:31:12.840190Z",
     "start_time": "2021-04-13T11:31:12.836201Z"
    }
   },
   "outputs": [],
   "source": [
    "import tensorflow as tf\n",
    "import numpy\n",
    "import matplotlib.pyplot as plt"
   ]
  },
  {
   "cell_type": "code",
   "execution_count": 4,
   "id": "buried-syndrome",
   "metadata": {
    "ExecuteTime": {
     "end_time": "2021-04-13T11:34:36.953614Z",
     "start_time": "2021-04-13T11:34:36.905742Z"
    },
    "collapsed": true
   },
   "outputs": [
    {
     "name": "stdout",
     "output_type": "stream",
     "text": [
      "3\n",
      "2\n"
     ]
    }
   ],
   "source": [
    "model = tf.keras.Sequential(\n",
    "    [\n",
    "        tf.keras.layers.Dense(2,activation='relu',name='layers1'),\n",
    "        tf.keras.layers.Dense(3,activation='relu',name='layers2'),\n",
    "        tf.keras.layers.Dense(4,name='layer3')\n",
    "    ]\n",
    ")\n",
    "# Call model on a test input\n",
    "x=tf.ones((3,3))\n",
    "y=model(x)\n",
    "\n",
    "# 上述书写就等价于下面的代码，只不过用Sequential更直观易于理解\n",
    "# # Create 3 layers\n",
    "# layer1 = layers.Dense(2, activation=\"relu\", name=\"layer1\")\n",
    "# layer2 = layers.Dense(3, activation=\"relu\", name=\"layer2\")\n",
    "# layer3 = layers.Dense(4, name=\"layer3\")\n",
    "\n",
    "# # Call layers on a test input\n",
    "# x = tf.ones((3, 3))\n",
    "# y = layer3(layer2(layer1(x)))\n",
    "\n",
    "\n",
    "# 删除最后一层\n",
    "print(len(model.layers))\n",
    "model.pop()\n",
    "print(len(model.layers))\n"
   ]
  },
  {
   "cell_type": "markdown",
   "id": "random-vatican",
   "metadata": {},
   "source": [
    "对于keras模型来说，还可以进行手动临时的添加\n"
   ]
  },
  {
   "cell_type": "code",
   "execution_count": 7,
   "id": "external-syndrome",
   "metadata": {
    "ExecuteTime": {
     "end_time": "2021-04-13T11:36:45.093954Z",
     "start_time": "2021-04-13T11:36:44.704224Z"
    }
   },
   "outputs": [],
   "source": [
    "model=tf.keras.Sequential(name='My_sequential')\n",
    "model.add(tf.keras.layers.Dense(2, activation=\"relu\", name=\"layer1\"))\n",
    "model.add(tf.keras.layers.Dense(3, activation=\"relu\", name=\"layer2\"))\n",
    "model.add(tf.keras.layers.Dense(4, name=\"layer3\"))"
   ]
  },
  {
   "cell_type": "markdown",
   "id": "sitting-dodge",
   "metadata": {},
   "source": [
    "所有的层都需要说明输入的形状shape，以方便后续进行权重的初始化，如果没有说明输入，那么默认他的权重是0\n"
   ]
  },
  {
   "cell_type": "code",
   "execution_count": 8,
   "id": "confirmed-andorra",
   "metadata": {
    "ExecuteTime": {
     "end_time": "2021-04-13T11:38:56.383708Z",
     "start_time": "2021-04-13T11:38:56.373760Z"
    }
   },
   "outputs": [
    {
     "data": {
      "text/plain": [
       "[]"
      ]
     },
     "execution_count": 8,
     "metadata": {},
     "output_type": "execute_result"
    }
   ],
   "source": [
    "layer=tf.keras.layers.Dense(3)\n",
    "layer.weights"
   ]
  },
  {
   "cell_type": "markdown",
   "id": "proud-insight",
   "metadata": {
    "ExecuteTime": {
     "end_time": "2021-04-13T11:40:08.857050Z",
     "start_time": "2021-04-13T11:40:08.835092Z"
    }
   },
   "source": [
    "更一般的初始化，是通过Sequential进行构建，然后当模型第一次看见输入的时候"
   ]
  },
  {
   "cell_type": "code",
   "execution_count": 12,
   "id": "indonesian-sharp",
   "metadata": {
    "ExecuteTime": {
     "end_time": "2021-04-13T12:22:31.488627Z",
     "start_time": "2021-04-13T12:22:30.996387Z"
    },
    "scrolled": true
   },
   "outputs": [
    {
     "name": "stdout",
     "output_type": "stream",
     "text": [
      "Number of weights after calling the model: 6\n"
     ]
    }
   ],
   "source": [
    "model = tf.keras.Sequential(\n",
    "    [\n",
    "        tf.keras.layers.Dense(2, activation=\"relu\"),\n",
    "        tf.keras.layers.Dense(3, activation=\"relu\"),\n",
    "        tf.keras.layers.Dense(4),\n",
    "    ]\n",
    ")  # No weights at this stage!\n",
    "\n",
    "# At this point, you can't do this:\n",
    "# model.weights\n",
    "\n",
    "# You also can't do this:\n",
    "# model.summary()\n",
    "\n",
    "# Call the model on a test input\n",
    "x = tf.ones((1, 4))\n",
    "y = model(x)\n",
    "print(\"Number of weights after calling the model:\", len(model.weights))  # 6\n"
   ]
  },
  {
   "cell_type": "markdown",
   "id": "altered-cologne",
   "metadata": {},
   "source": [
    "一旦模型的权重被初始化了，可以调用summary来进行查看模型\n"
   ]
  },
  {
   "cell_type": "code",
   "execution_count": 13,
   "id": "continued-stephen",
   "metadata": {
    "ExecuteTime": {
     "end_time": "2021-04-13T12:23:24.216596Z",
     "start_time": "2021-04-13T12:23:24.165730Z"
    },
    "collapsed": true
   },
   "outputs": [
    {
     "name": "stdout",
     "output_type": "stream",
     "text": [
      "Model: \"sequential_2\"\n",
      "_________________________________________________________________\n",
      "Layer (type)                 Output Shape              Param #   \n",
      "=================================================================\n",
      "dense_1 (Dense)              (1, 2)                    10        \n",
      "_________________________________________________________________\n",
      "dense_2 (Dense)              (1, 3)                    9         \n",
      "_________________________________________________________________\n",
      "dense_3 (Dense)              (1, 4)                    16        \n",
      "=================================================================\n",
      "Total params: 35\n",
      "Trainable params: 35\n",
      "Non-trainable params: 0\n",
      "_________________________________________________________________\n"
     ]
    }
   ],
   "source": [
    "model.summary()\n"
   ]
  },
  {
   "cell_type": "markdown",
   "id": "introductory-motorcycle",
   "metadata": {},
   "source": [
    "或者换句话我们可以这样做，给他提前定义好我们的输入层的shape，这样就不用单独为模型初始化了"
   ]
  },
  {
   "cell_type": "code",
   "execution_count": 16,
   "id": "exciting-trade",
   "metadata": {
    "ExecuteTime": {
     "end_time": "2021-04-13T12:24:14.911092Z",
     "start_time": "2021-04-13T12:24:14.515068Z"
    }
   },
   "outputs": [
    {
     "name": "stdout",
     "output_type": "stream",
     "text": [
      "Model: \"sequential_4\"\n",
      "_________________________________________________________________\n",
      "Layer (type)                 Output Shape              Param #   \n",
      "=================================================================\n",
      "dense_4 (Dense)              (None, 2)                 10        \n",
      "=================================================================\n",
      "Total params: 10\n",
      "Trainable params: 10\n",
      "Non-trainable params: 0\n",
      "_________________________________________________________________\n"
     ]
    }
   ],
   "source": [
    "model = tf.keras.Sequential()\n",
    "model.add(tf.keras.layers.Input(shape=(4,)))\n",
    "model.add(tf.keras.layers.Dense(2, activation=\"relu\"))\n",
    "\n",
    "model.summary()\n"
   ]
  },
  {
   "cell_type": "code",
   "execution_count": null,
   "id": "enabling-cheat",
   "metadata": {},
   "outputs": [],
   "source": []
  }
 ],
 "metadata": {
  "kernelspec": {
   "display_name": "tensorflow",
   "language": "python",
   "name": "tensorflow"
  },
  "language_info": {
   "codemirror_mode": {
    "name": "ipython",
    "version": 3
   },
   "file_extension": ".py",
   "mimetype": "text/x-python",
   "name": "python",
   "nbconvert_exporter": "python",
   "pygments_lexer": "ipython3",
   "version": "3.8.3"
  },
  "toc": {
   "base_numbering": 1,
   "nav_menu": {},
   "number_sections": true,
   "sideBar": true,
   "skip_h1_title": false,
   "title_cell": "Table of Contents",
   "title_sidebar": "Contents",
   "toc_cell": false,
   "toc_position": {},
   "toc_section_display": true,
   "toc_window_display": false
  },
  "varInspector": {
   "cols": {
    "lenName": 16,
    "lenType": 16,
    "lenVar": 40
   },
   "kernels_config": {
    "python": {
     "delete_cmd_postfix": "",
     "delete_cmd_prefix": "del ",
     "library": "var_list.py",
     "varRefreshCmd": "print(var_dic_list())"
    },
    "r": {
     "delete_cmd_postfix": ") ",
     "delete_cmd_prefix": "rm(",
     "library": "var_list.r",
     "varRefreshCmd": "cat(var_dic_list()) "
    }
   },
   "types_to_exclude": [
    "module",
    "function",
    "builtin_function_or_method",
    "instance",
    "_Feature"
   ],
   "window_display": false
  }
 },
 "nbformat": 4,
 "nbformat_minor": 5
}
