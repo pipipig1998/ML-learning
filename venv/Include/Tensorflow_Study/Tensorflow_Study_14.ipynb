{
 "cells": [
  {
   "cell_type": "code",
   "execution_count": 2,
   "id": "spare-miami",
   "metadata": {
    "ExecuteTime": {
     "end_time": "2021-04-13T14:34:11.598242Z",
     "start_time": "2021-04-13T14:34:11.593253Z"
    }
   },
   "outputs": [],
   "source": [
    "import tensorflow as tf\n",
    "from tensorflow import keras\n",
    "from tensorflow.keras import layers"
   ]
  },
  {
   "cell_type": "markdown",
   "id": "ready-athletics",
   "metadata": {
    "ExecuteTime": {
     "end_time": "2021-04-13T13:43:32.914735Z",
     "start_time": "2021-04-13T13:43:32.910748Z"
    }
   },
   "source": [
    "# 使用内置方法进行训练和评估\n",
    "\n",
    "指南涵盖使用内置 API 进行训练和验证时需要的训练、评估和预测（推断）模型（例如 model.fit()、model.evaluate()、model.predict()）。"
   ]
  },
  {
   "cell_type": "code",
   "execution_count": 4,
   "id": "alert-smooth",
   "metadata": {
    "ExecuteTime": {
     "end_time": "2021-04-13T14:45:29.813392Z",
     "start_time": "2021-04-13T14:45:06.809611Z"
    },
    "collapsed": true
   },
   "outputs": [
    {
     "name": "stdout",
     "output_type": "stream",
     "text": [
      "Downloading data from https://storage.googleapis.com/tensorflow/tf-keras-datasets/mnist.npz\n",
      "11493376/11490434 [==============================] - 11s 1us/step\n",
      "Fit model on training data\n",
      "Epoch 1/2\n",
      "782/782 [==============================] - 6s 7ms/step - loss: 0.5903 - sparse_categorical_accuracy: 0.8358 - val_loss: 0.2152 - val_sparse_categorical_accuracy: 0.9337\n",
      "Epoch 2/2\n",
      "782/782 [==============================] - 4s 5ms/step - loss: 0.1877 - sparse_categorical_accuracy: 0.9455 - val_loss: 0.1349 - val_sparse_categorical_accuracy: 0.9601\n"
     ]
    }
   ],
   "source": [
    "inputs=keras.Input(shape=(784,),name='digits')\n",
    "x=layers.Dense(64,activation='relu',name='dense_1')(inputs)\n",
    "x=layers.Dense(64,activation='relu',name='dense_2')(x)\n",
    "outputs=layers.Dense(10,activation='softmax',name='predictions')(x)\n",
    "model=keras.Model(inputs,outputs)\n",
    "\n",
    "(x_train, y_train), (x_test, y_test) = keras.datasets.mnist.load_data()\n",
    "\n",
    "# Preprocess the data (these are NumPy arrays)\n",
    "x_train = x_train.reshape(60000, 784).astype(\"float32\") / 255\n",
    "x_test = x_test.reshape(10000, 784).astype(\"float32\") / 255\n",
    "\n",
    "y_train = y_train.astype(\"float32\")\n",
    "y_test = y_test.astype(\"float32\")\n",
    "\n",
    "# Reserve 10,000 samples for validation\n",
    "x_val = x_train[-10000:]\n",
    "y_val = y_train[-10000:]\n",
    "x_train = x_train[:-10000]\n",
    "y_train = y_train[:-10000]\n",
    "\n",
    "model.compile(\n",
    "    optimizer=keras.optimizers.RMSprop(),  # Optimizer\n",
    "    # Loss function to minimize\n",
    "    loss=keras.losses.SparseCategoricalCrossentropy(),\n",
    "    # List of metrics to monitor\n",
    "    metrics=[keras.metrics.SparseCategoricalAccuracy()],\n",
    ")\n",
    "print(\"Fit model on training data\")\n",
    "history = model.fit(\n",
    "    x_train,\n",
    "    y_train,\n",
    "    batch_size=64,\n",
    "    epochs=2,\n",
    "    # We pass some validation for\n",
    "    # monitoring validation loss and metrics\n",
    "    # at the end of each epoch\n",
    "    validation_data=(x_val, y_val),\n",
    ")\n"
   ]
  },
  {
   "cell_type": "code",
   "execution_count": 5,
   "id": "mexican-bosnia",
   "metadata": {
    "ExecuteTime": {
     "end_time": "2021-04-13T14:45:57.896220Z",
     "start_time": "2021-04-13T14:45:56.776928Z"
    }
   },
   "outputs": [
    {
     "name": "stdout",
     "output_type": "stream",
     "text": [
      "Evaluate on test data\n",
      "79/79 [==============================] - 0s 3ms/step - loss: 0.1410 - sparse_categorical_accuracy: 0.9594\n",
      "test loss, test acc: [0.14103305339813232, 0.9593999981880188]\n",
      "Generate predictions for 3 samples\n",
      "predictions shape: (3, 10)\n"
     ]
    }
   ],
   "source": [
    "# Evaluate the model on the test data using `evaluate`\n",
    "print(\"Evaluate on test data\")\n",
    "results = model.evaluate(x_test, y_test, batch_size=128)\n",
    "print(\"test loss, test acc:\", results)\n",
    "\n",
    "# Generate predictions (probabilities -- the output of the last layer)\n",
    "# on new data using `predict`\n",
    "print(\"Generate predictions for 3 samples\")\n",
    "predictions = model.predict(x_test[:3])\n",
    "print(\"predictions shape:\", predictions.shape)\n"
   ]
  },
  {
   "cell_type": "markdown",
   "id": "brutal-hours",
   "metadata": {},
   "source": [
    "# compile() 方法：指定损失、指标和优化器\n",
    "要使用 fit() 训练模型，您需要指定损失函数、优化器以及一些要监视的指标（可选）。"
   ]
  },
  {
   "cell_type": "code",
   "execution_count": null,
   "id": "animal-mambo",
   "metadata": {},
   "outputs": [],
   "source": [
    "model.compile(\n",
    "    optimizer=keras.optimizers.RMSprop(learning_rate=1e-3),\n",
    "    loss=keras.losses.SparseCategoricalCrossentropy(),\n",
    "    metrics=[keras.metrics.SparseCategoricalAccuracy()],\n",
    ")\n"
   ]
  },
  {
   "cell_type": "markdown",
   "id": "favorite-referral",
   "metadata": {},
   "source": [
    "metrics 参数应当为列表 -- 您的模型可以具有任意数量的指标。\n",
    "\n",
    "如果模型具有多个输出，则可以为每个输出指定不同的损失和指标，并且可以调节每个输出对模型总损失的贡献。您可以在“将数据传递到多输入、多输出模型”部分中找到有关此内容的更多详细信息。"
   ]
  },
  {
   "cell_type": "markdown",
   "id": "potential-stephen",
   "metadata": {},
   "source": [
    "# 自定义损失\n",
    "有两种方法来使用 Keras 提供自定义损失。第一个示例创建一个接受输入 y_true 和 y_pred 的函数。下面的示例显示了一个计算实际数据与预测值之间的均方误差的损失函数："
   ]
  },
  {
   "cell_type": "code",
   "execution_count": null,
   "id": "banned-upgrade",
   "metadata": {},
   "outputs": [],
   "source": [
    "def custom_mean_squared_error(y_true, y_pred):\n",
    "    return tf.math.reduce_mean(tf.square(y_true - y_pred))\n",
    "\n",
    "\n",
    "model = get_uncompiled_model()\n",
    "model.compile(optimizer=keras.optimizers.Adam(), loss=custom_mean_squared_error)\n",
    "\n",
    "# We need to one-hot encode the labels to use MSE\n",
    "y_train_one_hot = tf.one_hot(y_train, depth=10)\n",
    "model.fit(x_train, y_train_one_hot, batch_size=64, epochs=1)\n"
   ]
  }
 ],
 "metadata": {
  "kernelspec": {
   "display_name": "tensorflow",
   "language": "python",
   "name": "tensorflow"
  },
  "language_info": {
   "codemirror_mode": {
    "name": "ipython",
    "version": 3
   },
   "file_extension": ".py",
   "mimetype": "text/x-python",
   "name": "python",
   "nbconvert_exporter": "python",
   "pygments_lexer": "ipython3",
   "version": "3.8.3"
  },
  "toc": {
   "base_numbering": 1,
   "nav_menu": {},
   "number_sections": true,
   "sideBar": true,
   "skip_h1_title": false,
   "title_cell": "Table of Contents",
   "title_sidebar": "Contents",
   "toc_cell": false,
   "toc_position": {},
   "toc_section_display": true,
   "toc_window_display": false
  },
  "varInspector": {
   "cols": {
    "lenName": 16,
    "lenType": 16,
    "lenVar": 40
   },
   "kernels_config": {
    "python": {
     "delete_cmd_postfix": "",
     "delete_cmd_prefix": "del ",
     "library": "var_list.py",
     "varRefreshCmd": "print(var_dic_list())"
    },
    "r": {
     "delete_cmd_postfix": ") ",
     "delete_cmd_prefix": "rm(",
     "library": "var_list.r",
     "varRefreshCmd": "cat(var_dic_list()) "
    }
   },
   "types_to_exclude": [
    "module",
    "function",
    "builtin_function_or_method",
    "instance",
    "_Feature"
   ],
   "window_display": false
  }
 },
 "nbformat": 4,
 "nbformat_minor": 5
}
